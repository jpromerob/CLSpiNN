{
 "cells": [
  {
   "cell_type": "code",
   "execution_count": 14,
   "metadata": {
    "scrolled": true
   },
   "outputs": [],
   "source": [
    "import socket\n",
    "import spynnaker8 as p\n",
    "from pyNN.random import NumpyRNG, RandomDistribution\n",
    "from pyNN.utility.plotting import Figure, Panel\n",
    "from pyNN.parameters import Sequence\n",
    "import matplotlib.pyplot as plt\n",
    "import os\n",
    "import time\n",
    "import numpy as np\n",
    "import math\n",
    "import cv2\n",
    "import sys,tty,termios\n",
    "import pdb\n",
    "from numpy import genfromtxt\n",
    "\n",
    "\n",
    "import sys\n",
    "sys.path.insert(1, '../../miscelaneous')\n",
    "from spinnorse_tools import fetch_files, plot_in_v_out, plot_spikes, plot_voltages\n",
    "from stimulator import produce_data"
   ]
  },
  {
   "cell_type": "code",
   "execution_count": 2,
   "metadata": {},
   "outputs": [
    {
     "name": "stdout",
     "output_type": "stream",
     "text": [
      "99.8 %"
     ]
    }
   ],
   "source": [
    "duration = 12\n",
    "r_ball = 3\n",
    "l_px = 24\n",
    "w_px = int(l_px*3/4)\n",
    "mat, coor = produce_data(l_px, w_px, r_ball, duration)\n",
    "# print(mat[3,4,:])"
   ]
  },
  {
   "cell_type": "code",
   "execution_count": 3,
   "metadata": {
    "scrolled": true
   },
   "outputs": [],
   "source": [
    "dt = 1           # (ms) simulation timestep\n",
    "\n",
    "cell_params = {'tau_m': 20.0,\n",
    "               'tau_syn_E': 5.0,\n",
    "               'tau_syn_I': 5.0,\n",
    "               'v_rest': -65.0,\n",
    "               'v_reset': -65.0,\n",
    "               'v_thresh': -50.0,\n",
    "               'tau_refrac': 0.0, # 0.1 originally\n",
    "               'cm': 1,\n",
    "               'i_offset': 0.0\n",
    "               }\n",
    "\n",
    "w = 1.0\n",
    "w_fovea = 0.5"
   ]
  },
  {
   "cell_type": "code",
   "execution_count": null,
   "metadata": {
    "scrolled": true
   },
   "outputs": [],
   "source": [
    "nb_steps = duration*1000\n",
    "\n",
    "\n",
    "#SpiNNaker Setup\n",
    "delay = dt\n",
    "node_id = p.setup(timestep=dt, min_delay=delay, max_delay=delay)     \n",
    "p.set_number_of_neurons_per_core(p.IF_curr_exp, 100) #  100 neurons per core\n",
    "\n",
    "\n",
    "celltype = p.IF_curr_exp\n",
    "\n",
    "cells_l0 = []  \n",
    "cells_l1 = []   \n",
    "con_l0l1 = []  \n",
    "con_move = []\n",
    "w_x = np.zeros((2,l_px))\n",
    "w_y = np.zeros((2,w_px))\n",
    "\n",
    "idx = -1\n",
    "\n",
    "m_labels = [\"go_right\", \"go_left\", \"go_up\", \"go_down\"]\n",
    "colors = [\"g\", \"r\", \"g\", \"r\"]\n",
    "\n",
    "move_neurons = []\n",
    "for i in range(len(m_labels)):\n",
    "    move_neurons.append(p.Population(1, celltype(**cell_params), label=m_labels[i]) )\n",
    "    move_neurons[i].record([\"v\",\"spikes\"])\n",
    "\n",
    "\n",
    "# def generate_spike_times(i_range):\n",
    "#     return [Sequence(numpy.add.accumulate(numpy.random.exponential(10.0, size=10)))\n",
    "#             for i in i_range]\n",
    "# p = sim.Population(30, sim.SpikeSourceArray(spike_times=generate_spike_times))    \n",
    "    \n",
    "    \n",
    "i_indexes = []    \n",
    "for y in range(w_px):        \n",
    "    for x in range(l_px):        \n",
    "        idx += 1\n",
    "        i_spikes = mat[y, x, :]\n",
    "        i_indexes.append(np.where(i_spikes > 0))\n",
    "        \n",
    "\n",
    "# cells_l0 = (p.Population(l_px*w_px, p.SpikeSourceArray(spike_times=generate_spike_times))) \n",
    "\n",
    "# for y in range(w_px):\n",
    "        \n",
    "#     for x in range(l_px):\n",
    "        \n",
    "#         idx += 1\n",
    "#         i_spikes = mat[y, x, :]\n",
    "#         i_indexes = np.where(i_spikes > 0)\n",
    "#         spike_trains = p.SpikeSourceArray(spike_times=(i_indexes))\n",
    "\n",
    "#         cur_label = \"N_{:d}_{:d}\".format(x, y)\n",
    "        \n",
    "#         # Populations        \n",
    "#         cells_l0.append(p.Population(1,spike_trains))        \n",
    "\n",
    "\n",
    "#         # Connectivity\n",
    "#         cell_conn = p.AllToAllConnector()\n",
    "#         cur_label = \"i2l_{:d}_{:d}\".format(x, y)         \n",
    "        \n",
    "#         # Move right (when stimulus on the left 'hemisphere')    \n",
    "#         if x < l_px/2:\n",
    "#             w_motor_x = w_fovea*(abs(x-l_px/2)/l_px )\n",
    "#             con_move.append({ 'l1lm': p.Projection(cells_l0[idx], move_neurons[0], cell_conn,\n",
    "#                                             receptor_type='excitatory',\n",
    "#                                             synapse_type=p.StaticSynapse(weight=w_motor_x, delay=delay))})\n",
    "    \n",
    "#         # Move Left (when stimulus on the right 'hemisphere')\n",
    "#         if x > l_px/2:\n",
    "#             w_motor_x = w_fovea*(abs(x-l_px/2)/l_px )\n",
    "#             con_move.append({ 'l1lm': p.Projection(cells_l0[idx], move_neurons[1], cell_conn,\n",
    "#                                             receptor_type='excitatory',\n",
    "#                                             synapse_type=p.StaticSynapse(weight=w_motor_x, delay=delay))})\n",
    "        \n",
    "#         # Move up (when stimulus on the bottom 'hemisphere')     \n",
    "#         if y < w_px/2: # higher pixel --> bottom of image\n",
    "#             w_motor_y = w_fovea*(abs(y-w_px/2)/w_px )\n",
    "#             con_move.append({ 'l1lm': p.Projection(cells_l0[idx], move_neurons[2], cell_conn,\n",
    "#                                             receptor_type='excitatory',\n",
    "#                                             synapse_type=p.StaticSynapse(weight=w_motor_y, delay=delay))})\n",
    "        \n",
    "#         # Move down (when stimulus on the top 'hemisphere') \n",
    "#         if y > w_px/2: # lower pixel --> top of image\n",
    "#             w_motor_y = w_fovea*(abs(y-w_px/2)/w_px )\n",
    "#             con_move.append({ 'l1lm': p.Projection(cells_l0[idx], move_neurons[3], cell_conn,\n",
    "#                                             receptor_type='excitatory',\n",
    "#                                             synapse_type=p.StaticSynapse(weight=w_motor_y, delay=delay))})\n",
    "        \n",
    "        \n",
    "#         # Setup recording \n",
    "#         cells_l0[idx].record([\"spikes\"])\n",
    "  \n",
    "        \n",
    "# Run simulation \n",
    "# p.run(nb_steps)\n",
    "\n",
    "\n",
    "\n",
    "        \n"
   ]
  },
  {
   "cell_type": "code",
   "execution_count": 24,
   "metadata": {},
   "outputs": [
    {
     "ename": "TypeError",
     "evalue": "object of type 'function' has no len()",
     "output_type": "error",
     "traceback": [
      "\u001b[0;31m---------------------------------------------------------------------------\u001b[0m",
      "\u001b[0;31mTypeError\u001b[0m                                 Traceback (most recent call last)",
      "\u001b[0;32m<ipython-input-24-5f1b72d372ea>\u001b[0m in \u001b[0;36m<module>\u001b[0;34m\u001b[0m\n\u001b[1;32m      7\u001b[0m             for i in i_range]\n\u001b[1;32m      8\u001b[0m \u001b[0;34m\u001b[0m\u001b[0m\n\u001b[0;32m----> 9\u001b[0;31m \u001b[0mp\u001b[0m\u001b[0;34m.\u001b[0m\u001b[0mPopulation\u001b[0m\u001b[0;34m(\u001b[0m\u001b[0;36m4\u001b[0m\u001b[0;34m,\u001b[0m \u001b[0mp\u001b[0m\u001b[0;34m.\u001b[0m\u001b[0mSpikeSourceArray\u001b[0m\u001b[0;34m(\u001b[0m\u001b[0mspike_times\u001b[0m\u001b[0;34m=\u001b[0m\u001b[0mgenerate_spike_timex\u001b[0m\u001b[0;34m)\u001b[0m\u001b[0;34m)\u001b[0m\u001b[0;34m\u001b[0m\u001b[0;34m\u001b[0m\u001b[0m\n\u001b[0m\u001b[1;32m     10\u001b[0m \u001b[0mprint\u001b[0m\u001b[0;34m(\u001b[0m\u001b[0mgenerate_spike_timex\u001b[0m\u001b[0;34m(\u001b[0m\u001b[0;34m[\u001b[0m\u001b[0;36m1\u001b[0m\u001b[0;34m,\u001b[0m\u001b[0;36m1\u001b[0m\u001b[0;34m]\u001b[0m\u001b[0;34m)\u001b[0m\u001b[0;34m)\u001b[0m\u001b[0;34m\u001b[0m\u001b[0;34m\u001b[0m\u001b[0m\n",
      "\u001b[0;32m~/spinstuff/lib/python3.6/site-packages/spynnaker/pyNN/models/populations/population.py\u001b[0m in \u001b[0;36m__init__\u001b[0;34m(self, size, cellclass, cellparams, structure, initial_values, label, constraints, additional_parameters)\u001b[0m\n\u001b[1;32m    107\u001b[0m         \u001b[0msize\u001b[0m \u001b[0;34m=\u001b[0m \u001b[0mself\u001b[0m\u001b[0;34m.\u001b[0m\u001b[0m__roundsize\u001b[0m\u001b[0;34m(\u001b[0m\u001b[0msize\u001b[0m\u001b[0;34m,\u001b[0m \u001b[0mlabel\u001b[0m\u001b[0;34m)\u001b[0m\u001b[0;34m\u001b[0m\u001b[0;34m\u001b[0m\u001b[0m\n\u001b[1;32m    108\u001b[0m         self.__create_vertex(\n\u001b[0;32m--> 109\u001b[0;31m             model, size, label, constraints, additional_parameters)\n\u001b[0m\u001b[1;32m    110\u001b[0m         \u001b[0mself\u001b[0m\u001b[0;34m.\u001b[0m\u001b[0m_recorder\u001b[0m \u001b[0;34m=\u001b[0m \u001b[0mRecorder\u001b[0m\u001b[0;34m(\u001b[0m\u001b[0mpopulation\u001b[0m\u001b[0;34m=\u001b[0m\u001b[0mself\u001b[0m\u001b[0;34m,\u001b[0m \u001b[0mvertex\u001b[0m\u001b[0;34m=\u001b[0m\u001b[0mself\u001b[0m\u001b[0;34m.\u001b[0m\u001b[0m__vertex\u001b[0m\u001b[0;34m)\u001b[0m\u001b[0;34m\u001b[0m\u001b[0;34m\u001b[0m\u001b[0m\n\u001b[1;32m    111\u001b[0m \u001b[0;34m\u001b[0m\u001b[0m\n",
      "\u001b[0;32m~/spinstuff/lib/python3.6/site-packages/spynnaker/pyNN/models/populations/population.py\u001b[0m in \u001b[0;36m__create_vertex\u001b[0;34m(self, model, size, label, constraints, additional_parameters)\u001b[0m\n\u001b[1;32m   1097\u001b[0m                     additional_parameters, population_parameters)\n\u001b[1;32m   1098\u001b[0m             self.__vertex = model.create_vertex(\n\u001b[0;32m-> 1099\u001b[0;31m                 size, label, constraints, **population_parameters)\n\u001b[0m\u001b[1;32m   1100\u001b[0m \u001b[0;34m\u001b[0m\u001b[0m\n\u001b[1;32m   1101\u001b[0m         \u001b[0;31m# Use a provided application vertex directly\u001b[0m\u001b[0;34m\u001b[0m\u001b[0;34m\u001b[0m\u001b[0;34m\u001b[0m\u001b[0m\n",
      "\u001b[0;32m~/spinstuff/lib/python3.6/site-packages/spynnaker/pyNN/models/spike_source/spike_source_array.py\u001b[0m in \u001b[0;36mcreate_vertex\u001b[0;34m(self, n_neurons, label, constraints, splitter)\u001b[0m\n\u001b[1;32m     37\u001b[0m         return SpikeSourceArrayVertex(\n\u001b[1;32m     38\u001b[0m             \u001b[0mn_neurons\u001b[0m\u001b[0;34m,\u001b[0m \u001b[0mself\u001b[0m\u001b[0;34m.\u001b[0m\u001b[0m__spike_times\u001b[0m\u001b[0;34m,\u001b[0m \u001b[0mconstraints\u001b[0m\u001b[0;34m,\u001b[0m \u001b[0mlabel\u001b[0m\u001b[0;34m,\u001b[0m \u001b[0mmax_atoms\u001b[0m\u001b[0;34m,\u001b[0m \u001b[0mself\u001b[0m\u001b[0;34m,\u001b[0m\u001b[0;34m\u001b[0m\u001b[0;34m\u001b[0m\u001b[0m\n\u001b[0;32m---> 39\u001b[0;31m             splitter)\n\u001b[0m\u001b[1;32m     40\u001b[0m \u001b[0;34m\u001b[0m\u001b[0m\n\u001b[1;32m     41\u001b[0m     \u001b[0;34m@\u001b[0m\u001b[0mproperty\u001b[0m\u001b[0;34m\u001b[0m\u001b[0;34m\u001b[0m\u001b[0m\n",
      "\u001b[0;32m~/spinstuff/lib/python3.6/site-packages/spynnaker/pyNN/models/spike_source/spike_source_array_vertex.py\u001b[0m in \u001b[0;36m__init__\u001b[0;34m(self, n_neurons, spike_times, constraints, label, max_atoms_per_core, model, splitter)\u001b[0m\n\u001b[1;32m     70\u001b[0m             \u001b[0mn_keys\u001b[0m\u001b[0;34m=\u001b[0m\u001b[0mn_neurons\u001b[0m\u001b[0;34m,\u001b[0m \u001b[0mlabel\u001b[0m\u001b[0;34m=\u001b[0m\u001b[0mlabel\u001b[0m\u001b[0;34m,\u001b[0m \u001b[0mconstraints\u001b[0m\u001b[0;34m=\u001b[0m\u001b[0mconstraints\u001b[0m\u001b[0;34m,\u001b[0m\u001b[0;34m\u001b[0m\u001b[0;34m\u001b[0m\u001b[0m\n\u001b[1;32m     71\u001b[0m             \u001b[0mmax_atoms_per_core\u001b[0m\u001b[0;34m=\u001b[0m\u001b[0mmax_atoms_per_core\u001b[0m\u001b[0;34m,\u001b[0m\u001b[0;34m\u001b[0m\u001b[0;34m\u001b[0m\u001b[0m\n\u001b[0;32m---> 72\u001b[0;31m             \u001b[0msend_buffer_times\u001b[0m\u001b[0;34m=\u001b[0m\u001b[0m_send_buffer_times\u001b[0m\u001b[0;34m(\u001b[0m\u001b[0mspike_times\u001b[0m\u001b[0;34m,\u001b[0m \u001b[0mtime_step\u001b[0m\u001b[0;34m)\u001b[0m\u001b[0;34m,\u001b[0m\u001b[0;34m\u001b[0m\u001b[0;34m\u001b[0m\u001b[0m\n\u001b[0m\u001b[1;32m     73\u001b[0m             \u001b[0msend_buffer_partition_id\u001b[0m\u001b[0;34m=\u001b[0m\u001b[0mconstants\u001b[0m\u001b[0;34m.\u001b[0m\u001b[0mSPIKE_PARTITION_ID\u001b[0m\u001b[0;34m,\u001b[0m\u001b[0;34m\u001b[0m\u001b[0;34m\u001b[0m\u001b[0m\n\u001b[1;32m     74\u001b[0m             splitter=splitter)\n",
      "\u001b[0;32m~/spinstuff/lib/python3.6/site-packages/spynnaker/pyNN/models/spike_source/spike_source_array_vertex.py\u001b[0m in \u001b[0;36m_send_buffer_times\u001b[0;34m(spike_times, time_step)\u001b[0m\n\u001b[1;32m     38\u001b[0m \u001b[0;32mdef\u001b[0m \u001b[0m_send_buffer_times\u001b[0m\u001b[0;34m(\u001b[0m\u001b[0mspike_times\u001b[0m\u001b[0;34m,\u001b[0m \u001b[0mtime_step\u001b[0m\u001b[0;34m)\u001b[0m\u001b[0;34m:\u001b[0m\u001b[0;34m\u001b[0m\u001b[0;34m\u001b[0m\u001b[0m\n\u001b[1;32m     39\u001b[0m     \u001b[0;31m# Convert to ticks\u001b[0m\u001b[0;34m\u001b[0m\u001b[0;34m\u001b[0m\u001b[0;34m\u001b[0m\u001b[0m\n\u001b[0;32m---> 40\u001b[0;31m     \u001b[0;32mif\u001b[0m \u001b[0mlen\u001b[0m\u001b[0;34m(\u001b[0m\u001b[0mspike_times\u001b[0m\u001b[0;34m)\u001b[0m \u001b[0;32mand\u001b[0m \u001b[0mhasattr\u001b[0m\u001b[0;34m(\u001b[0m\u001b[0mspike_times\u001b[0m\u001b[0;34m[\u001b[0m\u001b[0;36m0\u001b[0m\u001b[0;34m]\u001b[0m\u001b[0;34m,\u001b[0m \u001b[0;34m\"__len__\"\u001b[0m\u001b[0;34m)\u001b[0m\u001b[0;34m:\u001b[0m\u001b[0;34m\u001b[0m\u001b[0;34m\u001b[0m\u001b[0m\n\u001b[0m\u001b[1;32m     41\u001b[0m         \u001b[0mdata\u001b[0m \u001b[0;34m=\u001b[0m \u001b[0;34m[\u001b[0m\u001b[0;34m]\u001b[0m\u001b[0;34m\u001b[0m\u001b[0;34m\u001b[0m\u001b[0m\n\u001b[1;32m     42\u001b[0m         \u001b[0;32mfor\u001b[0m \u001b[0mtimes\u001b[0m \u001b[0;32min\u001b[0m \u001b[0mspike_times\u001b[0m\u001b[0;34m:\u001b[0m\u001b[0;34m\u001b[0m\u001b[0;34m\u001b[0m\u001b[0m\n",
      "\u001b[0;31mTypeError\u001b[0m: object of type 'function' has no len()"
     ]
    }
   ],
   "source": [
    "\n",
    "def generate_spike_times(i):\n",
    "    return np.array(i_indexes[i])\n",
    "\n",
    "def generate_spike_timex(i_range):\n",
    "    print(i_range)\n",
    "    return [Sequence(np.add.accumulate(np.random.exponential(10.0, size=10)))\n",
    "            for i in i_range]\n",
    "\n",
    "p.Population(4, p.SpikeSourceArray(spike_times=generate_spike_timex))\n",
    "print(generate_spike_timex([1,1]))"
   ]
  },
  {
   "cell_type": "code",
   "execution_count": null,
   "metadata": {},
   "outputs": [],
   "source": [
    "\n",
    "i_indexes = []\n",
    "o_indexes = []\n",
    "v_arrays = []\n",
    "for neuron_nb in range(0,w_px*l_px,1):\n",
    "    \n",
    "    in_spikes = cells_l0[neuron_nb].get_data(\"spikes\")\n",
    "#     l1_spikes = cells_l1[neuron_nb].get_data(\"spikes\")\n",
    "#     l1_voltage = cells_l1[neuron_nb].get_data(\"v\")\n",
    "\n",
    "    i_indexes.append(np.asarray(in_spikes.segments[0].spiketrains[0]))   \n",
    "#     o_indexes.append(np.asarray(l1_spikes.segments[0].spiketrains[0]))\n",
    "#     v_arrays.append(np.array(l1_voltage.segments[0].filter(name=\"v\")[0]).reshape(-1))\n",
    "\n",
    "\n",
    "\n",
    "m_indexes = []\n",
    "m_v_arrays = []\n",
    "for i in range(len(m_labels)):    \n",
    "    spikes = move_neurons[i].get_data(\"spikes\")\n",
    "    voltage = move_neurons[i].get_data(\"v\")\n",
    "    m_indexes.append(np.asarray(spikes.segments[0].spiketrains[0]))\n",
    "    m_v_arrays.append(np.array(voltage.segments[0].filter(name=\"v\")[0]).reshape(-1))\n"
   ]
  },
  {
   "cell_type": "code",
   "execution_count": null,
   "metadata": {},
   "outputs": [],
   "source": [
    "\n",
    "p.end()"
   ]
  },
  {
   "cell_type": "code",
   "execution_count": null,
   "metadata": {
    "scrolled": false
   },
   "outputs": [],
   "source": [
    "\n",
    "xlim = nb_steps       \n",
    "for i in range(4):\n",
    "    plot_spikes(m_indexes[i:i+1], m_labels[i], nb_steps)\n",
    "# for i in range(4):\n",
    "#     plot_voltages(m_v_arrays[i:i+1], \"Go \" + labels[i], nb_steps)"
   ]
  },
  {
   "cell_type": "code",
   "execution_count": null,
   "metadata": {},
   "outputs": [],
   "source": [
    "\n",
    "win_size = 20\n",
    "\n",
    "fig, axs = plt.subplots(2, figsize=(15,6))\n",
    "fig.tight_layout(pad=5.0)\n",
    "fig.suptitle(\"Trajectories\")  \n",
    "\n",
    "\n",
    "# print(\"{:.1f} %\".format(np.round(t/(duration*1000),3)*100))\n",
    "max_y = 0\n",
    "for j in range(4):\n",
    "    neuron_nb = j\n",
    "    count = np.zeros(nb_steps-win_size)\n",
    "    for i in range(win_size, nb_steps, 1):\n",
    "        \n",
    "        a = np.squeeze(np.array(np.where((m_indexes[neuron_nb]>=(i-win_size)) & (m_indexes[neuron_nb]<=(i)))), axis=0)\n",
    "        count[i-win_size] = len(a)\n",
    "        if count[i-win_size] > max_y:\n",
    "            max_y = count[i-win_size]\n",
    "\n",
    "    subplot_idx = int(j/2)\n",
    "    axs[subplot_idx].plot(count, label=m_labels[j], color=colors[j])\n",
    "    axs[subplot_idx].legend()\n",
    "\n",
    "    \n",
    "axs[0].set_ylim([0, int(max_y*1.2)])\n",
    "axs[1].set_ylim([0, int(max_y*1.2)])\n",
    "plt.legend()\n",
    "# plt.xlim([0, 20])"
   ]
  },
  {
   "cell_type": "code",
   "execution_count": null,
   "metadata": {},
   "outputs": [],
   "source": [
    "fig, axs = plt.subplots(1, figsize=(15,6))\n",
    "fig.tight_layout(pad=5.0)\n",
    "fig.suptitle(\"Trajectories\")  \n",
    "axs.plot(coor[0,:], label=\"x\", color=\"b\")\n",
    "axs.plot(coor[1,:], label=\"y\", color=\"y\")\n",
    "axs.plot(np.round(coor[0,:],0), label=\"x\", color=\"b\")\n",
    "axs.plot(np.round(coor[1,:],0), label=\"y\", color=\"y\")\n",
    "axs.set_ylim([0, 20])\n",
    "plt.legend()\n",
    "    "
   ]
  },
  {
   "cell_type": "code",
   "execution_count": null,
   "metadata": {},
   "outputs": [],
   "source": []
  }
 ],
 "metadata": {
  "kernelspec": {
   "display_name": "spinstuff",
   "language": "python",
   "name": "spinstuff"
  },
  "language_info": {
   "codemirror_mode": {
    "name": "ipython",
    "version": 3
   },
   "file_extension": ".py",
   "mimetype": "text/x-python",
   "name": "python",
   "nbconvert_exporter": "python",
   "pygments_lexer": "ipython3",
   "version": "3.6.9"
  }
 },
 "nbformat": 4,
 "nbformat_minor": 2
}
