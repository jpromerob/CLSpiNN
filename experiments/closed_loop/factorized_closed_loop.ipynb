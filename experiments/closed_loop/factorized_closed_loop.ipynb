{
 "cells": [
  {
   "cell_type": "code",
   "execution_count": 7,
   "metadata": {
    "scrolled": true
   },
   "outputs": [],
   "source": [
    "import spynnaker8 as p\n",
    "from pyNN.random import NumpyRNG, RandomDistribution\n",
    "from pyNN.parameters import Sequence\n",
    "from pyNN.utility.plotting import Figure, Panel\n",
    "import matplotlib.pyplot as plt\n",
    "\n",
    "import time\n",
    "import numpy as np\n",
    "import math\n",
    "import cv2\n",
    "import pdb\n",
    "\n",
    "\n",
    "import sys\n",
    "sys.path.insert(1, '../../miscelaneous')\n",
    "from spinnorse_tools import fetch_files, plot_in_v_out, plot_spikes, plot_voltages\n",
    "from stimulator import produce_data"
   ]
  },
  {
   "cell_type": "code",
   "execution_count": 2,
   "metadata": {},
   "outputs": [],
   "source": [
    "duration = 3\n",
    "l_px = 32\n",
    "w_px = int(l_px*3/4)\n",
    "vx =  l_px/80\n",
    "vy = -w_px/160\n",
    "r_ball = int(3+w_px/48)\n",
    "mat, coor = produce_data(l_px, w_px, r_ball, vx, vy, duration)\n",
    "# print(mat[3,4,:])"
   ]
  },
  {
   "cell_type": "code",
   "execution_count": 3,
   "metadata": {
    "scrolled": true
   },
   "outputs": [],
   "source": [
    "dt = 1           # (ms) simulation timestep\n",
    "\n",
    "cell_params = {'tau_m': 20.0,\n",
    "               'tau_syn_E': 5.0,\n",
    "               'tau_syn_I': 5.0,\n",
    "               'v_rest': -65.0,\n",
    "               'v_reset': -65.0,\n",
    "               'v_thresh': -50.0,\n",
    "               'tau_refrac': 0.0, # 0.1 originally\n",
    "               'cm': 1,\n",
    "               'i_offset': 0.0\n",
    "               }\n",
    "\n",
    "w = 1.0\n",
    "w_fovea = 0.5"
   ]
  },
  {
   "cell_type": "code",
   "execution_count": 16,
   "metadata": {
    "scrolled": true
   },
   "outputs": [
    {
     "name": "stderr",
     "output_type": "stream",
     "text": [
      "2022-03-18 16:03:43 WARNING: Calling setup a second time causes the previous simulator to be stopped and cleared.\n",
      "2022-03-18 16:03:43 INFO: Caching data for segment -1\n",
      "2022-03-18 16:03:43 WARNING: The simulation has not yet run, therefore spikes cannot be retrieved, hence the list will be empty\n",
      "2022-03-18 16:03:43 WARNING: The simulation has not yet run, therefore v cannot be retrieved, hence the list will be empty\n",
      "2022-03-18 16:03:43 INFO: Caching data for segment -1\n",
      "2022-03-18 16:03:43 WARNING: The simulation has not yet run, therefore spikes cannot be retrieved, hence the list will be empty\n",
      "2022-03-18 16:03:43 WARNING: The simulation has not yet run, therefore v cannot be retrieved, hence the list will be empty\n",
      "2022-03-18 16:03:43 INFO: Caching data for segment -1\n",
      "2022-03-18 16:03:43 WARNING: The simulation has not yet run, therefore spikes cannot be retrieved, hence the list will be empty\n",
      "2022-03-18 16:03:43 WARNING: The simulation has not yet run, therefore v cannot be retrieved, hence the list will be empty\n",
      "2022-03-18 16:03:43 INFO: Caching data for segment -1\n",
      "2022-03-18 16:03:43 WARNING: The simulation has not yet run, therefore spikes cannot be retrieved, hence the list will be empty\n",
      "2022-03-18 16:03:43 WARNING: The simulation has not yet run, therefore v cannot be retrieved, hence the list will be empty\n",
      "2022-03-18 16:03:43 INFO: Resetting\n",
      "2022-03-18 16:03:43 INFO: Read cfg files: /home/juan/spinstuff/lib/python3.6/site-packages/spinn_front_end_common/interface/spinnaker.cfg, /home/juan/spinstuff/lib/python3.6/site-packages/spynnaker/pyNN/spynnaker.cfg, /home/juan/.spynnaker.cfg\n",
      "2022-03-18 16:03:43 INFO: Will search these locations for binaries: /home/juan/spinstuff/lib/python3.6/site-packages/spinn_front_end_common/common_model_binaries : /home/juan/spinstuff/lib/python3.6/site-packages/spynnaker/pyNN/model_binaries\n",
      "2022-03-18 16:03:43 INFO: Setting time scale factor to 1.\n",
      "2022-03-18 16:03:43 INFO: Setting machine time step to 1000 micro-seconds.\n",
      "2022-03-18 16:03:43 WARNING: Attempt to increase number_of_neurons_per_core from 10 to 100 ignored\n",
      "2022-03-18 16:03:43 INFO: Starting execution process\n",
      "2022-03-18 16:03:43 INFO: Simulating for 3000 1.0ms timesteps using a hardware timestep of 1000us\n",
      "2022-03-18 16:03:43 INFO: Creating transceiver for 172.16.223.29\n",
      "2022-03-18 16:03:43 INFO: Working out if machine is booted\n",
      "2022-03-18 16:03:43 INFO: Found board with version [Version: SC&MP 3.4.1 at SpiNNaker:0:0:0 (built Thu Feb 11 15:36:44 2021)]\n",
      "2022-03-18 16:03:43 INFO: Machine communication successful\n",
      "2022-03-18 16:03:43 INFO: Detected a machine on IP address 172.16.223.29 which has 856 cores and 120.0 links\n",
      "2022-03-18 16:03:43 INFO: Time 0:00:00.026849 taken by MachineGenerator\n",
      "Preallocating resources for Extra Monitor support vertices\n",
      "|0%                          50%                         100%|\n",
      " ============================================================\n",
      "2022-03-18 16:03:43 INFO: Time 0:00:00.028995 taken by PreAllocateResourcesForExtraMonitorSupport\n",
      "2022-03-18 16:03:43 INFO: Time 0:00:00.000740 taken by NetworkSpecificationReport\n",
      "Allocating virtual identifiers\n",
      "|0%                          50%                         100%|\n",
      " ============================================================\n",
      "2022-03-18 16:03:43 INFO: Time 0:00:00.028539 taken by MallocBasedChipIDAllocator\n",
      "Writing the board chip report\n",
      "|0%                          50%                         100%|\n",
      " ============================================================\n",
      "2022-03-18 16:03:43 INFO: Time 0:00:00.006937 taken by BoardChipReport\n",
      "Adding Splitter selectors where appropriate\n",
      "|0%                          50%                         100%|\n",
      " ============================================================\n",
      "2022-03-18 16:03:43 INFO: Time 0:00:00.008416 taken by SpynnakerSplitterSelector\n",
      "Adding delay extensions as required\n",
      "|0%                          50%                         100%|\n",
      " ============================================================\n",
      "2022-03-18 16:03:43 INFO: Time 0:00:00.006152 taken by DelaySupportAdder\n",
      "Partitioning graph vertices\n",
      "|0%                          50%                         100%|\n",
      " ============================================================\n",
      "2022-03-18 16:03:44 ERROR: Error when calling spynnaker.pyNN.extra_algorithms.splitter_components.spynnaker_splitter_partitioner.SpynnakerSplitterPartitioner.__call__ with inputs dict_keys(['app_graph', 'machine', 'plan_n_time_steps', 'pre_allocated_resources'])\n"
     ]
    },
    {
     "name": "stdout",
     "output_type": "stream",
     "text": [
      "['/home/juan/spinstuff/lib/python3.6/site-packages/spinn_front_end_common/interface/spinnaker.cfg', '/home/juan/spinstuff/lib/python3.6/site-packages/spynnaker/pyNN/spynnaker.cfg', '/home/juan/.spynnaker.cfg']\n"
     ]
    },
    {
     "ename": "ValueError",
     "evalue": "all the input array dimensions for the concatenation axis must match exactly, but along dimension 1, the array at index 0 has size 0 and the array at index 48 has size 4",
     "output_type": "error",
     "traceback": [
      "\u001b[0;31m---------------------------------------------------------------------------\u001b[0m",
      "\u001b[0;31mValueError\u001b[0m                                Traceback (most recent call last)",
      "\u001b[0;32m<ipython-input-16-2a5867076fa4>\u001b[0m in \u001b[0;36m<module>\u001b[0;34m\u001b[0m\n\u001b[1;32m     77\u001b[0m \u001b[0;34m\u001b[0m\u001b[0m\n\u001b[1;32m     78\u001b[0m \u001b[0;31m# Run simulation\u001b[0m\u001b[0;34m\u001b[0m\u001b[0;34m\u001b[0m\u001b[0;34m\u001b[0m\u001b[0m\n\u001b[0;32m---> 79\u001b[0;31m \u001b[0mp\u001b[0m\u001b[0;34m.\u001b[0m\u001b[0mrun\u001b[0m\u001b[0;34m(\u001b[0m\u001b[0mnb_steps\u001b[0m\u001b[0;34m)\u001b[0m\u001b[0;34m\u001b[0m\u001b[0;34m\u001b[0m\u001b[0m\n\u001b[0m\u001b[1;32m     80\u001b[0m \u001b[0;34m\u001b[0m\u001b[0m\n\u001b[1;32m     81\u001b[0m \u001b[0;34m\u001b[0m\u001b[0m\n",
      "\u001b[0;32m~/spinstuff/lib/python3.6/site-packages/spynnaker8/__init__.py\u001b[0m in \u001b[0;36mrun\u001b[0;34m(simtime, callbacks)\u001b[0m\n\u001b[1;32m    701\u001b[0m     \u001b[0;32mif\u001b[0m \u001b[0;32mnot\u001b[0m \u001b[0mglobals_variables\u001b[0m\u001b[0;34m.\u001b[0m\u001b[0mhas_simulator\u001b[0m\u001b[0;34m(\u001b[0m\u001b[0;34m)\u001b[0m\u001b[0;34m:\u001b[0m\u001b[0;34m\u001b[0m\u001b[0;34m\u001b[0m\u001b[0m\n\u001b[1;32m    702\u001b[0m         \u001b[0;32mraise\u001b[0m \u001b[0mConfigurationException\u001b[0m\u001b[0;34m(\u001b[0m\u001b[0mFAILED_STATE_MSG\u001b[0m\u001b[0;34m)\u001b[0m\u001b[0;34m\u001b[0m\u001b[0;34m\u001b[0m\u001b[0m\n\u001b[0;32m--> 703\u001b[0;31m     \u001b[0;32mreturn\u001b[0m \u001b[0m__pynn\u001b[0m\u001b[0;34m[\u001b[0m\u001b[0;34m\"run\"\u001b[0m\u001b[0;34m]\u001b[0m\u001b[0;34m(\u001b[0m\u001b[0msimtime\u001b[0m\u001b[0;34m,\u001b[0m \u001b[0mcallbacks\u001b[0m\u001b[0;34m=\u001b[0m\u001b[0mcallbacks\u001b[0m\u001b[0;34m)\u001b[0m\u001b[0;34m\u001b[0m\u001b[0;34m\u001b[0m\u001b[0m\n\u001b[0m\u001b[1;32m    704\u001b[0m \u001b[0;34m\u001b[0m\u001b[0m\n\u001b[1;32m    705\u001b[0m \u001b[0;34m\u001b[0m\u001b[0m\n",
      "\u001b[0;32m~/spinstuff/lib/python3.6/site-packages/pyNN/common/control.py\u001b[0m in \u001b[0;36mrun\u001b[0;34m(simtime, callbacks)\u001b[0m\n\u001b[1;32m    109\u001b[0m         \u001b[0mthe\u001b[0m \u001b[0minitial\u001b[0m \u001b[0mconditions\u001b[0m \u001b[0;34m(\u001b[0m\u001b[0mtime\u001b[0m\u001b[0;31m \u001b[0m\u001b[0;31m`\u001b[0m\u001b[0;31m`\u001b[0m\u001b[0mt\u001b[0m \u001b[0;34m=\u001b[0m \u001b[0;36m0\u001b[0m\u001b[0;31m`\u001b[0m\u001b[0;31m`\u001b[0m\u001b[0;34m)\u001b[0m\u001b[0;34m,\u001b[0m \u001b[0muse\u001b[0m \u001b[0mthe\u001b[0m\u001b[0;31m \u001b[0m\u001b[0;31m`\u001b[0m\u001b[0;31m`\u001b[0m\u001b[0mreset\u001b[0m\u001b[0;34m(\u001b[0m\u001b[0;34m)\u001b[0m\u001b[0;31m`\u001b[0m\u001b[0;31m`\u001b[0m \u001b[0mfunction\u001b[0m\u001b[0;34m.\u001b[0m\u001b[0;34m\u001b[0m\u001b[0;34m\u001b[0m\u001b[0m\n\u001b[1;32m    110\u001b[0m         \"\"\"\n\u001b[0;32m--> 111\u001b[0;31m         \u001b[0;32mreturn\u001b[0m \u001b[0mrun_until\u001b[0m\u001b[0;34m(\u001b[0m\u001b[0msimulator\u001b[0m\u001b[0;34m.\u001b[0m\u001b[0mstate\u001b[0m\u001b[0;34m.\u001b[0m\u001b[0mt\u001b[0m \u001b[0;34m+\u001b[0m \u001b[0msimtime\u001b[0m\u001b[0;34m,\u001b[0m \u001b[0mcallbacks\u001b[0m\u001b[0;34m)\u001b[0m\u001b[0;34m\u001b[0m\u001b[0;34m\u001b[0m\u001b[0m\n\u001b[0m\u001b[1;32m    112\u001b[0m     \u001b[0;32mreturn\u001b[0m \u001b[0mrun\u001b[0m\u001b[0;34m,\u001b[0m \u001b[0mrun_until\u001b[0m\u001b[0;34m\u001b[0m\u001b[0;34m\u001b[0m\u001b[0m\n\u001b[1;32m    113\u001b[0m \u001b[0;34m\u001b[0m\u001b[0m\n",
      "\u001b[0;32m~/spinstuff/lib/python3.6/site-packages/pyNN/common/control.py\u001b[0m in \u001b[0;36mrun_until\u001b[0;34m(time_point, callbacks)\u001b[0m\n\u001b[1;32m     91\u001b[0m                         for callback in active_callbacks)\n\u001b[1;32m     92\u001b[0m         \u001b[0;32melse\u001b[0m\u001b[0;34m:\u001b[0m\u001b[0;34m\u001b[0m\u001b[0;34m\u001b[0m\u001b[0m\n\u001b[0;32m---> 93\u001b[0;31m             \u001b[0msimulator\u001b[0m\u001b[0;34m.\u001b[0m\u001b[0mstate\u001b[0m\u001b[0;34m.\u001b[0m\u001b[0mrun_until\u001b[0m\u001b[0;34m(\u001b[0m\u001b[0mtime_point\u001b[0m\u001b[0;34m)\u001b[0m\u001b[0;34m\u001b[0m\u001b[0;34m\u001b[0m\u001b[0m\n\u001b[0m\u001b[1;32m     94\u001b[0m         \u001b[0;32mreturn\u001b[0m \u001b[0msimulator\u001b[0m\u001b[0;34m.\u001b[0m\u001b[0mstate\u001b[0m\u001b[0;34m.\u001b[0m\u001b[0mt\u001b[0m\u001b[0;34m\u001b[0m\u001b[0;34m\u001b[0m\u001b[0m\n\u001b[1;32m     95\u001b[0m \u001b[0;34m\u001b[0m\u001b[0m\n",
      "\u001b[0;32m~/spinstuff/lib/python3.6/site-packages/spynnaker8/spinnaker.py\u001b[0m in \u001b[0;36mrun_until\u001b[0;34m(self, tstop)\u001b[0m\n\u001b[1;32m    117\u001b[0m         \"\"\"\n\u001b[1;32m    118\u001b[0m         \u001b[0;31m# Build data\u001b[0m\u001b[0;34m\u001b[0m\u001b[0;34m\u001b[0m\u001b[0;34m\u001b[0m\u001b[0m\n\u001b[0;32m--> 119\u001b[0;31m         \u001b[0mself\u001b[0m\u001b[0;34m.\u001b[0m\u001b[0m_run_wait\u001b[0m\u001b[0;34m(\u001b[0m\u001b[0mtstop\u001b[0m \u001b[0;34m-\u001b[0m \u001b[0mself\u001b[0m\u001b[0;34m.\u001b[0m\u001b[0mt\u001b[0m\u001b[0;34m)\u001b[0m\u001b[0;34m\u001b[0m\u001b[0;34m\u001b[0m\u001b[0m\n\u001b[0m\u001b[1;32m    120\u001b[0m \u001b[0;34m\u001b[0m\u001b[0m\n\u001b[1;32m    121\u001b[0m     \u001b[0;32mdef\u001b[0m \u001b[0mclear\u001b[0m\u001b[0;34m(\u001b[0m\u001b[0mself\u001b[0m\u001b[0;34m)\u001b[0m\u001b[0;34m:\u001b[0m\u001b[0;34m\u001b[0m\u001b[0;34m\u001b[0m\u001b[0m\n",
      "\u001b[0;32m~/spinstuff/lib/python3.6/site-packages/spynnaker8/spinnaker.py\u001b[0m in \u001b[0;36m_run_wait\u001b[0;34m(self, duration_ms, sync_time)\u001b[0m\n\u001b[1;32m    148\u001b[0m         \"\"\"\n\u001b[1;32m    149\u001b[0m \u001b[0;34m\u001b[0m\u001b[0m\n\u001b[0;32m--> 150\u001b[0;31m         \u001b[0msuper\u001b[0m\u001b[0;34m(\u001b[0m\u001b[0mSpiNNaker\u001b[0m\u001b[0;34m,\u001b[0m \u001b[0mself\u001b[0m\u001b[0;34m)\u001b[0m\u001b[0;34m.\u001b[0m\u001b[0mrun\u001b[0m\u001b[0;34m(\u001b[0m\u001b[0mduration_ms\u001b[0m\u001b[0;34m,\u001b[0m \u001b[0msync_time\u001b[0m\u001b[0;34m)\u001b[0m\u001b[0;34m\u001b[0m\u001b[0;34m\u001b[0m\u001b[0m\n\u001b[0m\u001b[1;32m    151\u001b[0m \u001b[0;34m\u001b[0m\u001b[0m\n\u001b[1;32m    152\u001b[0m     \u001b[0;34m@\u001b[0m\u001b[0mproperty\u001b[0m\u001b[0;34m\u001b[0m\u001b[0;34m\u001b[0m\u001b[0m\n",
      "\u001b[0;32m~/spinstuff/lib/python3.6/site-packages/spynnaker/pyNN/abstract_spinnaker_common.py\u001b[0m in \u001b[0;36mrun\u001b[0;34m(self, run_time, sync_time)\u001b[0m\n\u001b[1;32m    378\u001b[0m                 [\"RedundantPacketCountReport\"])\n\u001b[1;32m    379\u001b[0m \u001b[0;34m\u001b[0m\u001b[0m\n\u001b[0;32m--> 380\u001b[0;31m         \u001b[0msuper\u001b[0m\u001b[0;34m(\u001b[0m\u001b[0;34m)\u001b[0m\u001b[0;34m.\u001b[0m\u001b[0mrun\u001b[0m\u001b[0;34m(\u001b[0m\u001b[0mrun_time\u001b[0m\u001b[0;34m,\u001b[0m \u001b[0msync_time\u001b[0m\u001b[0;34m)\u001b[0m\u001b[0;34m\u001b[0m\u001b[0;34m\u001b[0m\u001b[0m\n\u001b[0m\u001b[1;32m    381\u001b[0m         \u001b[0;32mfor\u001b[0m \u001b[0mprojection\u001b[0m \u001b[0;32min\u001b[0m \u001b[0mself\u001b[0m\u001b[0;34m.\u001b[0m\u001b[0m_projections\u001b[0m\u001b[0;34m:\u001b[0m\u001b[0;34m\u001b[0m\u001b[0;34m\u001b[0m\u001b[0m\n\u001b[1;32m    382\u001b[0m             \u001b[0mprojection\u001b[0m\u001b[0;34m.\u001b[0m\u001b[0m_clear_cache\u001b[0m\u001b[0;34m(\u001b[0m\u001b[0;34m)\u001b[0m\u001b[0;34m\u001b[0m\u001b[0;34m\u001b[0m\u001b[0m\n",
      "\u001b[0;32m~/spinstuff/lib/python3.6/site-packages/spinn_front_end_common/interface/abstract_spinnaker_base.py\u001b[0m in \u001b[0;36mrun\u001b[0;34m(self, run_time, sync_time)\u001b[0m\n\u001b[1;32m    778\u001b[0m     \u001b[0;34m@\u001b[0m\u001b[0moverrides\u001b[0m\u001b[0;34m(\u001b[0m\u001b[0mSimulatorInterface\u001b[0m\u001b[0;34m.\u001b[0m\u001b[0mrun\u001b[0m\u001b[0;34m)\u001b[0m\u001b[0;34m\u001b[0m\u001b[0;34m\u001b[0m\u001b[0m\n\u001b[1;32m    779\u001b[0m     \u001b[0;32mdef\u001b[0m \u001b[0mrun\u001b[0m\u001b[0;34m(\u001b[0m\u001b[0mself\u001b[0m\u001b[0;34m,\u001b[0m \u001b[0mrun_time\u001b[0m\u001b[0;34m,\u001b[0m \u001b[0msync_time\u001b[0m\u001b[0;34m=\u001b[0m\u001b[0;36m0\u001b[0m\u001b[0;34m)\u001b[0m\u001b[0;34m:\u001b[0m\u001b[0;34m\u001b[0m\u001b[0;34m\u001b[0m\u001b[0m\n\u001b[0;32m--> 780\u001b[0;31m         \u001b[0mself\u001b[0m\u001b[0;34m.\u001b[0m\u001b[0m_run\u001b[0m\u001b[0;34m(\u001b[0m\u001b[0mrun_time\u001b[0m\u001b[0;34m,\u001b[0m \u001b[0msync_time\u001b[0m\u001b[0;34m)\u001b[0m\u001b[0;34m\u001b[0m\u001b[0;34m\u001b[0m\u001b[0m\n\u001b[0m\u001b[1;32m    781\u001b[0m \u001b[0;34m\u001b[0m\u001b[0m\n\u001b[1;32m    782\u001b[0m     \u001b[0;32mdef\u001b[0m \u001b[0m_build_graphs_for_usage\u001b[0m\u001b[0;34m(\u001b[0m\u001b[0mself\u001b[0m\u001b[0;34m)\u001b[0m\u001b[0;34m:\u001b[0m\u001b[0;34m\u001b[0m\u001b[0;34m\u001b[0m\u001b[0m\n",
      "\u001b[0;32m~/spinstuff/lib/python3.6/site-packages/spinn_front_end_common/interface/abstract_spinnaker_base.py\u001b[0m in \u001b[0;36m_run\u001b[0;34m(self, run_time, sync_time)\u001b[0m\n\u001b[1;32m    931\u001b[0m             \u001b[0;32mif\u001b[0m \u001b[0mself\u001b[0m\u001b[0;34m.\u001b[0m\u001b[0m_machine\u001b[0m \u001b[0;32mis\u001b[0m \u001b[0;32mNone\u001b[0m\u001b[0;34m:\u001b[0m\u001b[0;34m\u001b[0m\u001b[0;34m\u001b[0m\u001b[0m\n\u001b[1;32m    932\u001b[0m                 \u001b[0mself\u001b[0m\u001b[0;34m.\u001b[0m\u001b[0m_get_machine\u001b[0m\u001b[0;34m(\u001b[0m\u001b[0mtotal_run_time\u001b[0m\u001b[0;34m,\u001b[0m \u001b[0mn_machine_time_steps\u001b[0m\u001b[0;34m)\u001b[0m\u001b[0;34m\u001b[0m\u001b[0;34m\u001b[0m\u001b[0m\n\u001b[0;32m--> 933\u001b[0;31m             \u001b[0mself\u001b[0m\u001b[0;34m.\u001b[0m\u001b[0m_do_mapping\u001b[0m\u001b[0;34m(\u001b[0m\u001b[0mrun_time\u001b[0m\u001b[0;34m,\u001b[0m \u001b[0mtotal_run_time\u001b[0m\u001b[0;34m)\u001b[0m\u001b[0;34m\u001b[0m\u001b[0;34m\u001b[0m\u001b[0m\n\u001b[0m\u001b[1;32m    934\u001b[0m \u001b[0;34m\u001b[0m\u001b[0m\n\u001b[1;32m    935\u001b[0m         \u001b[0;31m# Check if anything has per-timestep SDRAM usage\u001b[0m\u001b[0;34m\u001b[0m\u001b[0;34m\u001b[0m\u001b[0;34m\u001b[0m\u001b[0m\n",
      "\u001b[0;32m~/spinstuff/lib/python3.6/site-packages/spinn_front_end_common/interface/abstract_spinnaker_base.py\u001b[0m in \u001b[0;36m_do_mapping\u001b[0;34m(self, run_time, total_run_time)\u001b[0m\n\u001b[1;32m   1735\u001b[0m         executor = self._run_algorithms(\n\u001b[1;32m   1736\u001b[0m             \u001b[0minputs\u001b[0m\u001b[0;34m,\u001b[0m \u001b[0malgorithms\u001b[0m\u001b[0;34m,\u001b[0m \u001b[0moutputs\u001b[0m\u001b[0;34m,\u001b[0m \u001b[0mtokens\u001b[0m\u001b[0;34m,\u001b[0m \u001b[0;34m[\u001b[0m\u001b[0;34m]\u001b[0m\u001b[0;34m,\u001b[0m \u001b[0;34m\"mapping\"\u001b[0m\u001b[0;34m,\u001b[0m\u001b[0;34m\u001b[0m\u001b[0;34m\u001b[0m\u001b[0m\n\u001b[0;32m-> 1737\u001b[0;31m             optional_algorithms)\n\u001b[0m\u001b[1;32m   1738\u001b[0m \u001b[0;34m\u001b[0m\u001b[0m\n\u001b[1;32m   1739\u001b[0m         \u001b[0;31m# get result objects from the pacman executor\u001b[0m\u001b[0;34m\u001b[0m\u001b[0;34m\u001b[0m\u001b[0;34m\u001b[0m\u001b[0m\n",
      "\u001b[0;32m~/spinstuff/lib/python3.6/site-packages/spinn_front_end_common/interface/abstract_spinnaker_base.py\u001b[0m in \u001b[0;36m_run_algorithms\u001b[0;34m(self, inputs, algorithms, outputs, tokens, required_tokens, provenance_name, optional_algorithms)\u001b[0m\n\u001b[1;32m   1193\u001b[0m                 logger.warning(\"problem when shutting down {}\".format(e3),\n\u001b[1;32m   1194\u001b[0m                                exc_info=True)\n\u001b[0;32m-> 1195\u001b[0;31m             \u001b[0;32mraise\u001b[0m \u001b[0me\u001b[0m\u001b[0;34m\u001b[0m\u001b[0;34m\u001b[0m\u001b[0m\n\u001b[0m\u001b[1;32m   1196\u001b[0m \u001b[0;34m\u001b[0m\u001b[0m\n\u001b[1;32m   1197\u001b[0m     \u001b[0;32mdef\u001b[0m \u001b[0m_get_machine\u001b[0m\u001b[0;34m(\u001b[0m\u001b[0mself\u001b[0m\u001b[0;34m,\u001b[0m \u001b[0mtotal_run_time\u001b[0m\u001b[0;34m=\u001b[0m\u001b[0;36m0.0\u001b[0m\u001b[0;34m,\u001b[0m \u001b[0mn_machine_time_steps\u001b[0m\u001b[0;34m=\u001b[0m\u001b[0;32mNone\u001b[0m\u001b[0;34m)\u001b[0m\u001b[0;34m:\u001b[0m\u001b[0;34m\u001b[0m\u001b[0;34m\u001b[0m\u001b[0m\n",
      "\u001b[0;32m~/spinstuff/lib/python3.6/site-packages/spinn_front_end_common/interface/abstract_spinnaker_base.py\u001b[0m in \u001b[0;36m_run_algorithms\u001b[0;34m(self, inputs, algorithms, outputs, tokens, required_tokens, provenance_name, optional_algorithms)\u001b[0m\n\u001b[1;32m   1173\u001b[0m \u001b[0;34m\u001b[0m\u001b[0m\n\u001b[1;32m   1174\u001b[0m         \u001b[0;32mtry\u001b[0m\u001b[0;34m:\u001b[0m\u001b[0;34m\u001b[0m\u001b[0;34m\u001b[0m\u001b[0m\n\u001b[0;32m-> 1175\u001b[0;31m             \u001b[0mexecutor\u001b[0m\u001b[0;34m.\u001b[0m\u001b[0mexecute_mapping\u001b[0m\u001b[0;34m(\u001b[0m\u001b[0;34m)\u001b[0m\u001b[0;34m\u001b[0m\u001b[0;34m\u001b[0m\u001b[0m\n\u001b[0m\u001b[1;32m   1176\u001b[0m             \u001b[0mself\u001b[0m\u001b[0;34m.\u001b[0m\u001b[0m_pacman_provenance\u001b[0m\u001b[0;34m.\u001b[0m\u001b[0mextract_provenance\u001b[0m\u001b[0;34m(\u001b[0m\u001b[0mexecutor\u001b[0m\u001b[0;34m)\u001b[0m\u001b[0;34m\u001b[0m\u001b[0;34m\u001b[0m\u001b[0m\n\u001b[1;32m   1177\u001b[0m             \u001b[0;32mreturn\u001b[0m \u001b[0mexecutor\u001b[0m\u001b[0;34m\u001b[0m\u001b[0;34m\u001b[0m\u001b[0m\n",
      "\u001b[0;32m~/spinstuff/lib/python3.6/site-packages/pacman/executor/pacman_algorithm_executor.py\u001b[0m in \u001b[0;36mexecute_mapping\u001b[0;34m(self)\u001b[0m\n\u001b[1;32m    664\u001b[0m         \u001b[0;32mif\u001b[0m \u001b[0mself\u001b[0m\u001b[0;34m.\u001b[0m\u001b[0m_do_direct_injection\u001b[0m\u001b[0;34m:\u001b[0m\u001b[0;34m\u001b[0m\u001b[0;34m\u001b[0m\u001b[0m\n\u001b[1;32m    665\u001b[0m             \u001b[0;32mwith\u001b[0m \u001b[0minjection_context\u001b[0m\u001b[0;34m(\u001b[0m\u001b[0mself\u001b[0m\u001b[0;34m.\u001b[0m\u001b[0m_internal_type_mapping\u001b[0m\u001b[0;34m)\u001b[0m\u001b[0;34m:\u001b[0m\u001b[0;34m\u001b[0m\u001b[0;34m\u001b[0m\u001b[0m\n\u001b[0;32m--> 666\u001b[0;31m                 \u001b[0mself\u001b[0m\u001b[0;34m.\u001b[0m\u001b[0m__execute_mapping\u001b[0m\u001b[0;34m(\u001b[0m\u001b[0;34m)\u001b[0m\u001b[0;34m\u001b[0m\u001b[0;34m\u001b[0m\u001b[0m\n\u001b[0m\u001b[1;32m    667\u001b[0m         \u001b[0;32melse\u001b[0m\u001b[0;34m:\u001b[0m\u001b[0;34m\u001b[0m\u001b[0;34m\u001b[0m\u001b[0m\n\u001b[1;32m    668\u001b[0m             \u001b[0mself\u001b[0m\u001b[0;34m.\u001b[0m\u001b[0m__execute_mapping\u001b[0m\u001b[0;34m(\u001b[0m\u001b[0;34m)\u001b[0m\u001b[0;34m\u001b[0m\u001b[0;34m\u001b[0m\u001b[0m\n",
      "\u001b[0;32m~/spinstuff/lib/python3.6/site-packages/pacman/executor/pacman_algorithm_executor.py\u001b[0m in \u001b[0;36m__execute_mapping\u001b[0;34m(self)\u001b[0m\n\u001b[1;32m    680\u001b[0m \u001b[0;34m\u001b[0m\u001b[0m\n\u001b[1;32m    681\u001b[0m             \u001b[0;31m# Execute the algorithm\u001b[0m\u001b[0;34m\u001b[0m\u001b[0;34m\u001b[0m\u001b[0;34m\u001b[0m\u001b[0m\n\u001b[0;32m--> 682\u001b[0;31m             \u001b[0mresults\u001b[0m \u001b[0;34m=\u001b[0m \u001b[0malgorithm\u001b[0m\u001b[0;34m.\u001b[0m\u001b[0mcall\u001b[0m\u001b[0;34m(\u001b[0m\u001b[0mself\u001b[0m\u001b[0;34m.\u001b[0m\u001b[0m_internal_type_mapping\u001b[0m\u001b[0;34m)\u001b[0m\u001b[0;34m\u001b[0m\u001b[0;34m\u001b[0m\u001b[0m\n\u001b[0m\u001b[1;32m    683\u001b[0m \u001b[0;34m\u001b[0m\u001b[0m\n\u001b[1;32m    684\u001b[0m             \u001b[0;32mif\u001b[0m \u001b[0mself\u001b[0m\u001b[0;34m.\u001b[0m\u001b[0m_provenance_path\u001b[0m\u001b[0;34m:\u001b[0m\u001b[0;34m\u001b[0m\u001b[0;34m\u001b[0m\u001b[0m\n",
      "\u001b[0;32m~/spinstuff/lib/python3.6/site-packages/pacman/executor/algorithm_classes/abstract_python_algorithm.py\u001b[0m in \u001b[0;36mcall\u001b[0;34m(self, inputs)\u001b[0m\n\u001b[1;32m     75\u001b[0m \u001b[0;34m\u001b[0m\u001b[0m\n\u001b[1;32m     76\u001b[0m         \u001b[0;31m# Run the algorithm and get the results\u001b[0m\u001b[0;34m\u001b[0m\u001b[0;34m\u001b[0m\u001b[0;34m\u001b[0m\u001b[0m\n\u001b[0;32m---> 77\u001b[0;31m         \u001b[0mresults\u001b[0m \u001b[0;34m=\u001b[0m \u001b[0mself\u001b[0m\u001b[0;34m.\u001b[0m\u001b[0mcall_python\u001b[0m\u001b[0;34m(\u001b[0m\u001b[0mmethod_inputs\u001b[0m\u001b[0;34m)\u001b[0m\u001b[0;34m\u001b[0m\u001b[0;34m\u001b[0m\u001b[0m\n\u001b[0m\u001b[1;32m     78\u001b[0m \u001b[0;34m\u001b[0m\u001b[0m\n\u001b[1;32m     79\u001b[0m         \u001b[0;32mif\u001b[0m \u001b[0mresults\u001b[0m \u001b[0;32mis\u001b[0m \u001b[0;32mnot\u001b[0m \u001b[0;32mNone\u001b[0m \u001b[0;32mand\u001b[0m \u001b[0;32mnot\u001b[0m \u001b[0misinstance\u001b[0m\u001b[0;34m(\u001b[0m\u001b[0mresults\u001b[0m\u001b[0;34m,\u001b[0m \u001b[0mtuple\u001b[0m\u001b[0;34m)\u001b[0m\u001b[0;34m:\u001b[0m\u001b[0;34m\u001b[0m\u001b[0;34m\u001b[0m\u001b[0m\n",
      "\u001b[0;32m~/spinstuff/lib/python3.6/site-packages/pacman/executor/algorithm_classes/python_class_algorithm.py\u001b[0m in \u001b[0;36mcall_python\u001b[0;34m(self, inputs)\u001b[0m\n\u001b[1;32m     95\u001b[0m                          \u001b[0mself\u001b[0m\u001b[0;34m.\u001b[0m\u001b[0m_python_module\u001b[0m\u001b[0;34m,\u001b[0m \u001b[0mself\u001b[0m\u001b[0;34m.\u001b[0m\u001b[0m_python_class\u001b[0m\u001b[0;34m,\u001b[0m \u001b[0mmethod\u001b[0m\u001b[0;34m,\u001b[0m\u001b[0;34m\u001b[0m\u001b[0;34m\u001b[0m\u001b[0m\n\u001b[1;32m     96\u001b[0m                          inputs.keys())\n\u001b[0;32m---> 97\u001b[0;31m             \u001b[0;32mraise\u001b[0m \u001b[0me\u001b[0m\u001b[0;34m\u001b[0m\u001b[0;34m\u001b[0m\u001b[0m\n\u001b[0m\u001b[1;32m     98\u001b[0m \u001b[0;34m\u001b[0m\u001b[0m\n\u001b[1;32m     99\u001b[0m     \u001b[0;32mdef\u001b[0m \u001b[0m__repr__\u001b[0m\u001b[0;34m(\u001b[0m\u001b[0mself\u001b[0m\u001b[0;34m)\u001b[0m\u001b[0;34m:\u001b[0m\u001b[0;34m\u001b[0m\u001b[0;34m\u001b[0m\u001b[0m\n",
      "\u001b[0;32m~/spinstuff/lib/python3.6/site-packages/pacman/executor/algorithm_classes/python_class_algorithm.py\u001b[0m in \u001b[0;36mcall_python\u001b[0;34m(self, inputs)\u001b[0m\n\u001b[1;32m     87\u001b[0m             \u001b[0mmethod\u001b[0m \u001b[0;34m=\u001b[0m \u001b[0mgetattr\u001b[0m\u001b[0;34m(\u001b[0m\u001b[0minstance\u001b[0m\u001b[0;34m,\u001b[0m \u001b[0mself\u001b[0m\u001b[0;34m.\u001b[0m\u001b[0m_python_method\u001b[0m\u001b[0;34m)\u001b[0m\u001b[0;34m\u001b[0m\u001b[0;34m\u001b[0m\u001b[0m\n\u001b[1;32m     88\u001b[0m         \u001b[0;32mtry\u001b[0m\u001b[0;34m:\u001b[0m\u001b[0;34m\u001b[0m\u001b[0;34m\u001b[0m\u001b[0m\n\u001b[0;32m---> 89\u001b[0;31m             \u001b[0;32mreturn\u001b[0m \u001b[0mmethod\u001b[0m\u001b[0;34m(\u001b[0m\u001b[0;34m**\u001b[0m\u001b[0minputs\u001b[0m\u001b[0;34m)\u001b[0m\u001b[0;34m\u001b[0m\u001b[0;34m\u001b[0m\u001b[0m\n\u001b[0m\u001b[1;32m     90\u001b[0m         \u001b[0;32mexcept\u001b[0m \u001b[0mException\u001b[0m \u001b[0;32mas\u001b[0m \u001b[0me\u001b[0m\u001b[0;34m:\u001b[0m\u001b[0;34m\u001b[0m\u001b[0;34m\u001b[0m\u001b[0m\n\u001b[1;32m     91\u001b[0m             \u001b[0mmethod\u001b[0m \u001b[0;34m=\u001b[0m \u001b[0;34m\"__call__\"\u001b[0m\u001b[0;34m\u001b[0m\u001b[0;34m\u001b[0m\u001b[0m\n",
      "\u001b[0;32m~/spinstuff/lib/python3.6/site-packages/spynnaker/pyNN/extra_algorithms/splitter_components/spynnaker_splitter_partitioner.py\u001b[0m in \u001b[0;36m__call__\u001b[0;34m(self, app_graph, machine, plan_n_time_steps, pre_allocated_resources)\u001b[0m\n\u001b[1;32m     40\u001b[0m         \u001b[0;31m# do partitioning in same way\u001b[0m\u001b[0;34m\u001b[0m\u001b[0;34m\u001b[0m\u001b[0;34m\u001b[0m\u001b[0m\n\u001b[1;32m     41\u001b[0m         machine_graph, chips_used = super().__call__(\n\u001b[0;32m---> 42\u001b[0;31m             app_graph, machine, plan_n_time_steps, pre_allocated_resources)\n\u001b[0m\u001b[1;32m     43\u001b[0m \u001b[0;34m\u001b[0m\u001b[0m\n\u001b[1;32m     44\u001b[0m         \u001b[0;31m# return the accepted things\u001b[0m\u001b[0;34m\u001b[0m\u001b[0;34m\u001b[0m\u001b[0;34m\u001b[0m\u001b[0m\n",
      "\u001b[0;32m~/spinstuff/lib/python3.6/site-packages/pacman/operations/partition_algorithms/splitter_partitioner.py\u001b[0m in \u001b[0;36m__call__\u001b[0;34m(self, app_graph, machine, plan_n_time_steps, pre_allocated_resources)\u001b[0m\n\u001b[1;32m     95\u001b[0m         \u001b[0;31m# Partition one vertex at a time\u001b[0m\u001b[0;34m\u001b[0m\u001b[0;34m\u001b[0m\u001b[0;34m\u001b[0m\u001b[0m\n\u001b[1;32m     96\u001b[0m         \u001b[0;32mfor\u001b[0m \u001b[0mvertex\u001b[0m \u001b[0;32min\u001b[0m \u001b[0mprogress\u001b[0m\u001b[0;34m.\u001b[0m\u001b[0mover\u001b[0m\u001b[0;34m(\u001b[0m\u001b[0mvertices\u001b[0m\u001b[0;34m)\u001b[0m\u001b[0;34m:\u001b[0m\u001b[0;34m\u001b[0m\u001b[0;34m\u001b[0m\u001b[0m\n\u001b[0;32m---> 97\u001b[0;31m             \u001b[0mvertex\u001b[0m\u001b[0;34m.\u001b[0m\u001b[0msplitter\u001b[0m\u001b[0;34m.\u001b[0m\u001b[0msplit\u001b[0m\u001b[0;34m(\u001b[0m\u001b[0mresource_tracker\u001b[0m\u001b[0;34m,\u001b[0m \u001b[0mmachine_graph\u001b[0m\u001b[0;34m)\u001b[0m\u001b[0;34m\u001b[0m\u001b[0;34m\u001b[0m\u001b[0m\n\u001b[0m\u001b[1;32m     98\u001b[0m \u001b[0;34m\u001b[0m\u001b[0m\n\u001b[1;32m     99\u001b[0m         \u001b[0;31m# process edges\u001b[0m\u001b[0;34m\u001b[0m\u001b[0;34m\u001b[0m\u001b[0;34m\u001b[0m\u001b[0m\n",
      "\u001b[0;32m~/spinstuff/lib/python3.6/site-packages/pacman/model/partitioner_splitters/abstract_splitters/abstract_splitter_common.py\u001b[0m in \u001b[0;36msplit\u001b[0;34m(self, resource_tracker, machine_graph)\u001b[0m\n\u001b[1;32m    185\u001b[0m         \u001b[0;34m:\u001b[0m\u001b[0mrtype\u001b[0m\u001b[0;34m:\u001b[0m \u001b[0mbool\u001b[0m\u001b[0;34m\u001b[0m\u001b[0;34m\u001b[0m\u001b[0m\n\u001b[1;32m    186\u001b[0m         \"\"\"\n\u001b[0;32m--> 187\u001b[0;31m         \u001b[0;32mreturn\u001b[0m \u001b[0mself\u001b[0m\u001b[0;34m.\u001b[0m\u001b[0mcreate_machine_vertices\u001b[0m\u001b[0;34m(\u001b[0m\u001b[0mresource_tracker\u001b[0m\u001b[0;34m,\u001b[0m \u001b[0mmachine_graph\u001b[0m\u001b[0;34m)\u001b[0m\u001b[0;34m\u001b[0m\u001b[0;34m\u001b[0m\u001b[0m\n\u001b[0m\u001b[1;32m    188\u001b[0m \u001b[0;34m\u001b[0m\u001b[0m\n\u001b[1;32m    189\u001b[0m     \u001b[0;34m@\u001b[0m\u001b[0mabstractmethod\u001b[0m\u001b[0;34m\u001b[0m\u001b[0;34m\u001b[0m\u001b[0m\n",
      "\u001b[0;32m~/spinstuff/lib/python3.6/site-packages/pacman/model/partitioner_splitters/abstract_splitters/abstract_splitter_slice.py\u001b[0m in \u001b[0;36mcreate_machine_vertices\u001b[0;34m(self, resource_tracker, machine_graph)\u001b[0m\n\u001b[1;32m    349\u001b[0m     \u001b[0;34m@\u001b[0m\u001b[0moverrides\u001b[0m\u001b[0;34m(\u001b[0m\u001b[0mAbstractSplitterCommon\u001b[0m\u001b[0;34m.\u001b[0m\u001b[0mcreate_machine_vertices\u001b[0m\u001b[0;34m)\u001b[0m\u001b[0;34m\u001b[0m\u001b[0;34m\u001b[0m\u001b[0m\n\u001b[1;32m    350\u001b[0m     \u001b[0;32mdef\u001b[0m \u001b[0mcreate_machine_vertices\u001b[0m\u001b[0;34m(\u001b[0m\u001b[0mself\u001b[0m\u001b[0;34m,\u001b[0m \u001b[0mresource_tracker\u001b[0m\u001b[0;34m,\u001b[0m \u001b[0mmachine_graph\u001b[0m\u001b[0;34m)\u001b[0m\u001b[0;34m:\u001b[0m\u001b[0;34m\u001b[0m\u001b[0;34m\u001b[0m\u001b[0m\n\u001b[0;32m--> 351\u001b[0;31m         \u001b[0mslices_resources_map\u001b[0m \u001b[0;34m=\u001b[0m \u001b[0mself\u001b[0m\u001b[0;34m.\u001b[0m\u001b[0m__split\u001b[0m\u001b[0;34m(\u001b[0m\u001b[0mresource_tracker\u001b[0m\u001b[0;34m)\u001b[0m\u001b[0;34m\u001b[0m\u001b[0;34m\u001b[0m\u001b[0m\n\u001b[0m\u001b[1;32m    352\u001b[0m         \u001b[0;32mfor\u001b[0m \u001b[0mvertex_slice\u001b[0m \u001b[0;32min\u001b[0m \u001b[0mslices_resources_map\u001b[0m\u001b[0;34m:\u001b[0m\u001b[0;34m\u001b[0m\u001b[0;34m\u001b[0m\u001b[0m\n\u001b[1;32m    353\u001b[0m             machine_vertex = self.create_machine_vertex(\n",
      "\u001b[0;32m~/spinstuff/lib/python3.6/site-packages/pacman/model/partitioner_splitters/abstract_splitters/abstract_splitter_slice.py\u001b[0m in \u001b[0;36m__split\u001b[0;34m(self, resource_tracker)\u001b[0m\n\u001b[1;32m    100\u001b[0m             \u001b[0;31m# Scale down the number of atoms to fit the available resources\u001b[0m\u001b[0;34m\u001b[0m\u001b[0;34m\u001b[0m\u001b[0;34m\u001b[0m\u001b[0m\n\u001b[1;32m    101\u001b[0m             used_placements, hi_atom = self._scale_down_resources(\n\u001b[0;32m--> 102\u001b[0;31m                 lo_atom, hi_atom, resource_tracker)\n\u001b[0m\u001b[1;32m    103\u001b[0m \u001b[0;34m\u001b[0m\u001b[0m\n\u001b[1;32m    104\u001b[0m             \u001b[0;31m# Update where we are\u001b[0m\u001b[0;34m\u001b[0m\u001b[0;34m\u001b[0m\u001b[0;34m\u001b[0m\u001b[0m\n",
      "\u001b[0;32m~/spinstuff/lib/python3.6/site-packages/pacman/model/partitioner_splitters/abstract_splitters/abstract_splitter_slice.py\u001b[0m in \u001b[0;36m_scale_down_resources\u001b[0;34m(self, lo_atom, hi_atom, resource_tracker)\u001b[0m\n\u001b[1;32m    131\u001b[0m         \u001b[0;31m# get resources used by vertex\u001b[0m\u001b[0;34m\u001b[0m\u001b[0;34m\u001b[0m\u001b[0;34m\u001b[0m\u001b[0m\n\u001b[1;32m    132\u001b[0m         \u001b[0mvertex_slice\u001b[0m \u001b[0;34m=\u001b[0m \u001b[0mSlice\u001b[0m\u001b[0;34m(\u001b[0m\u001b[0mlo_atom\u001b[0m\u001b[0;34m,\u001b[0m \u001b[0mhi_atom\u001b[0m\u001b[0;34m)\u001b[0m\u001b[0;34m\u001b[0m\u001b[0;34m\u001b[0m\u001b[0m\n\u001b[0;32m--> 133\u001b[0;31m         \u001b[0mused_resources\u001b[0m \u001b[0;34m=\u001b[0m \u001b[0mself\u001b[0m\u001b[0;34m.\u001b[0m\u001b[0mget_resources_used_by_atoms\u001b[0m\u001b[0;34m(\u001b[0m\u001b[0mvertex_slice\u001b[0m\u001b[0;34m)\u001b[0m\u001b[0;34m\u001b[0m\u001b[0;34m\u001b[0m\u001b[0m\n\u001b[0m\u001b[1;32m    134\u001b[0m \u001b[0;34m\u001b[0m\u001b[0m\n\u001b[1;32m    135\u001b[0m         \u001b[0mx\u001b[0m \u001b[0;34m=\u001b[0m \u001b[0;32mNone\u001b[0m\u001b[0;34m\u001b[0m\u001b[0;34m\u001b[0m\u001b[0m\n",
      "\u001b[0;32m~/spinstuff/lib/python3.6/site-packages/pacman/model/partitioner_splitters/splitter_slice_legacy.py\u001b[0m in \u001b[0;36mget_resources_used_by_atoms\u001b[0;34m(self, vertex_slice)\u001b[0m\n\u001b[1;32m     68\u001b[0m     \u001b[0;32mdef\u001b[0m \u001b[0mget_resources_used_by_atoms\u001b[0m\u001b[0;34m(\u001b[0m\u001b[0mself\u001b[0m\u001b[0;34m,\u001b[0m \u001b[0mvertex_slice\u001b[0m\u001b[0;34m)\u001b[0m\u001b[0;34m:\u001b[0m\u001b[0;34m\u001b[0m\u001b[0;34m\u001b[0m\u001b[0m\n\u001b[1;32m     69\u001b[0m         return self._governed_app_vertex.get_resources_used_by_atoms(\n\u001b[0;32m---> 70\u001b[0;31m             vertex_slice)\n\u001b[0m",
      "\u001b[0;32m~/spinstuff/lib/python3.6/site-packages/spinn_front_end_common/utility_models/reverse_ip_tag_multi_cast_source.py\u001b[0m in \u001b[0;36mget_resources_used_by_atoms\u001b[0;34m(self, vertex_slice)\u001b[0m\n\u001b[1;32m    198\u001b[0m             sdram=ReverseIPTagMulticastSourceMachineVertex.get_sdram_usage(\n\u001b[1;32m    199\u001b[0m                 \u001b[0msend_buffer_times\u001b[0m\u001b[0;34m,\u001b[0m \u001b[0mself\u001b[0m\u001b[0;34m.\u001b[0m\u001b[0m_is_recording\u001b[0m\u001b[0;34m,\u001b[0m \u001b[0msim\u001b[0m\u001b[0;34m.\u001b[0m\u001b[0mmachine_time_step\u001b[0m\u001b[0;34m,\u001b[0m\u001b[0;34m\u001b[0m\u001b[0;34m\u001b[0m\u001b[0m\n\u001b[0;32m--> 200\u001b[0;31m                 self._receive_rate, vertex_slice.n_atoms),\n\u001b[0m\u001b[1;32m    201\u001b[0m             dtcm=DTCMResource(\n\u001b[1;32m    202\u001b[0m                 ReverseIPTagMulticastSourceMachineVertex.get_dtcm_usage()),\n",
      "\u001b[0;32m~/spinstuff/lib/python3.6/site-packages/spinn_front_end_common/utility_models/reverse_ip_tag_multicast_source_machine_vertex.py\u001b[0m in \u001b[0;36mget_sdram_usage\u001b[0;34m(cls, send_buffer_times, recording_enabled, machine_time_step, receive_rate, n_keys)\u001b[0m\n\u001b[1;32m    423\u001b[0m             cls.get_provenance_data_size(0))\n\u001b[1;32m    424\u001b[0m         per_timestep = (\n\u001b[0;32m--> 425\u001b[0;31m             \u001b[0mcls\u001b[0m\u001b[0;34m.\u001b[0m\u001b[0m_send_buffer_sdram_per_timestep\u001b[0m\u001b[0;34m(\u001b[0m\u001b[0msend_buffer_times\u001b[0m\u001b[0;34m,\u001b[0m \u001b[0mn_keys\u001b[0m\u001b[0;34m)\u001b[0m \u001b[0;34m+\u001b[0m\u001b[0;34m\u001b[0m\u001b[0;34m\u001b[0m\u001b[0m\n\u001b[0m\u001b[1;32m    426\u001b[0m             cls._recording_sdram_per_timestep(\n\u001b[1;32m    427\u001b[0m                 \u001b[0mmachine_time_step\u001b[0m\u001b[0;34m,\u001b[0m \u001b[0mrecording_enabled\u001b[0m\u001b[0;34m,\u001b[0m \u001b[0mreceive_rate\u001b[0m\u001b[0;34m,\u001b[0m\u001b[0;34m\u001b[0m\u001b[0;34m\u001b[0m\u001b[0m\n",
      "\u001b[0;32m~/spinstuff/lib/python3.6/site-packages/spinn_front_end_common/utility_models/reverse_ip_tag_multicast_source_machine_vertex.py\u001b[0m in \u001b[0;36m_send_buffer_sdram_per_timestep\u001b[0;34m(cls, send_buffer_times, n_keys)\u001b[0m\n\u001b[1;32m    296\u001b[0m         \u001b[0;32mif\u001b[0m \u001b[0msend_buffer_times\u001b[0m \u001b[0;32mis\u001b[0m \u001b[0;32mnot\u001b[0m \u001b[0;32mNone\u001b[0m\u001b[0;34m:\u001b[0m\u001b[0;34m\u001b[0m\u001b[0;34m\u001b[0m\u001b[0m\n\u001b[1;32m    297\u001b[0m             return get_n_bytes(cls._max_send_buffer_keys_per_timestep(\n\u001b[0;32m--> 298\u001b[0;31m                 send_buffer_times, n_keys))\n\u001b[0m\u001b[1;32m    299\u001b[0m         \u001b[0;32mreturn\u001b[0m \u001b[0;36m0\u001b[0m\u001b[0;34m\u001b[0m\u001b[0;34m\u001b[0m\u001b[0m\n\u001b[1;32m    300\u001b[0m \u001b[0;34m\u001b[0m\u001b[0m\n",
      "\u001b[0;32m~/spinstuff/lib/python3.6/site-packages/spinn_front_end_common/utility_models/reverse_ip_tag_multicast_source_machine_vertex.py\u001b[0m in \u001b[0;36m_max_send_buffer_keys_per_timestep\u001b[0;34m(send_buffer_times, n_keys)\u001b[0m\n\u001b[1;32m    271\u001b[0m         \"\"\"\n\u001b[1;32m    272\u001b[0m         \u001b[0;32mif\u001b[0m \u001b[0mlen\u001b[0m\u001b[0;34m(\u001b[0m\u001b[0msend_buffer_times\u001b[0m\u001b[0;34m)\u001b[0m \u001b[0;32mand\u001b[0m \u001b[0mhasattr\u001b[0m\u001b[0;34m(\u001b[0m\u001b[0msend_buffer_times\u001b[0m\u001b[0;34m[\u001b[0m\u001b[0;36m0\u001b[0m\u001b[0;34m]\u001b[0m\u001b[0;34m,\u001b[0m \u001b[0;34m\"__len__\"\u001b[0m\u001b[0;34m)\u001b[0m\u001b[0;34m:\u001b[0m\u001b[0;34m\u001b[0m\u001b[0;34m\u001b[0m\u001b[0m\n\u001b[0;32m--> 273\u001b[0;31m             \u001b[0mcounts\u001b[0m \u001b[0;34m=\u001b[0m \u001b[0mnumpy\u001b[0m\u001b[0;34m.\u001b[0m\u001b[0mbincount\u001b[0m\u001b[0;34m(\u001b[0m\u001b[0mnumpy\u001b[0m\u001b[0;34m.\u001b[0m\u001b[0mconcatenate\u001b[0m\u001b[0;34m(\u001b[0m\u001b[0msend_buffer_times\u001b[0m\u001b[0;34m)\u001b[0m\u001b[0;34m)\u001b[0m\u001b[0;34m\u001b[0m\u001b[0;34m\u001b[0m\u001b[0m\n\u001b[0m\u001b[1;32m    274\u001b[0m             \u001b[0;32mif\u001b[0m \u001b[0mlen\u001b[0m\u001b[0;34m(\u001b[0m\u001b[0mcounts\u001b[0m\u001b[0;34m)\u001b[0m\u001b[0;34m:\u001b[0m\u001b[0;34m\u001b[0m\u001b[0;34m\u001b[0m\u001b[0m\n\u001b[1;32m    275\u001b[0m                 \u001b[0;32mreturn\u001b[0m \u001b[0mmax\u001b[0m\u001b[0;34m(\u001b[0m\u001b[0mcounts\u001b[0m\u001b[0;34m)\u001b[0m\u001b[0;34m\u001b[0m\u001b[0;34m\u001b[0m\u001b[0m\n",
      "\u001b[0;32m<__array_function__ internals>\u001b[0m in \u001b[0;36mconcatenate\u001b[0;34m(*args, **kwargs)\u001b[0m\n",
      "\u001b[0;31mValueError\u001b[0m: all the input array dimensions for the concatenation axis must match exactly, but along dimension 1, the array at index 0 has size 0 and the array at index 48 has size 4"
     ]
    }
   ],
   "source": [
    "nb_steps = duration*1000\n",
    "\n",
    "\n",
    "#SpiNNaker Setup\n",
    "delay = dt\n",
    "node_id = p.setup(timestep=dt, min_delay=delay, max_delay=delay)     \n",
    "p.set_number_of_neurons_per_core(p.IF_curr_exp, 100) #  100 neurons per core\n",
    "\n",
    "\n",
    "celltype = p.IF_curr_exp\n",
    "\n",
    "cells_l0 = []  \n",
    "cells_l1 = []   \n",
    "con_l0l1 = []  \n",
    "con_move = []\n",
    "w_x = np.zeros((2,l_px))\n",
    "w_y = np.zeros((2,w_px))\n",
    "\n",
    "idx = -1\n",
    "\n",
    "m_labels = [\"go_right\", \"go_left\", \"go_up\", \"go_down\"]\n",
    "colors = [\"g\", \"r\", \"g\", \"r\"]\n",
    "\n",
    "move_neurons = []\n",
    "for i in range(len(m_labels)):\n",
    "    move_neurons.append(p.Population(1, celltype(**cell_params), label=m_labels[i]) )\n",
    "    move_neurons[i].record([\"v\",\"spikes\"])\n",
    "\n",
    "i_indexes = []\n",
    "for y in range(w_px):\n",
    "        \n",
    "    for x in range(l_px):\n",
    "        \n",
    "        idx += 1\n",
    "        i_spikes = mat[y, x, :]\n",
    "        i_indexes.append(np.where(i_spikes > 0))\n",
    "\n",
    "cells_l0 = p.Population(w_px*l_px, p.SpikeSourceArray(spike_times=(i_indexes)))        \n",
    "        \n",
    "#         cur_label = \"N_{:d}_{:d}\".format(x, y)\n",
    "        \n",
    "#         # Populations        \n",
    "#         cells_l0.append(p.Population(1,spike_trains))   \n",
    "\n",
    "#         # Connectivity\n",
    "#         cell_conn = p.AllToAllConnector()\n",
    "#         cur_label = \"i2l_{:d}_{:d}\".format(x, y)         \n",
    "        \n",
    "#         # Move right (when stimulus on the left 'hemisphere')    \n",
    "#         if x < l_px/2:\n",
    "#             w_motor_x = w_fovea*(abs(x-l_px/2)/l_px )\n",
    "#             con_move.append({ 'l1lm': p.Projection(cells_l0[idx], move_neurons[0], cell_conn,\n",
    "#                                             receptor_type='excitatory',\n",
    "#                                             synapse_type=p.StaticSynapse(weight=w_motor_x, delay=delay))})\n",
    "    \n",
    "#         # Move Left (when stimulus on the right 'hemisphere')\n",
    "#         if x > l_px/2:\n",
    "#             w_motor_x = w_fovea*(abs(x-l_px/2)/l_px )\n",
    "#             con_move.append({ 'l1lm': p.Projection(cells_l0[idx], move_neurons[1], cell_conn,\n",
    "#                                             receptor_type='excitatory',\n",
    "#                                             synapse_type=p.StaticSynapse(weight=w_motor_x, delay=delay))})\n",
    "        \n",
    "#         # Move up (when stimulus on the bottom 'hemisphere')     \n",
    "#         if y < w_px/2: # higher pixel --> bottom of image\n",
    "#             w_motor_y = w_fovea*(abs(y-w_px/2)/w_px )\n",
    "#             con_move.append({ 'l1lm': p.Projection(cells_l0[idx], move_neurons[2], cell_conn,\n",
    "#                                             receptor_type='excitatory',\n",
    "#                                             synapse_type=p.StaticSynapse(weight=w_motor_y, delay=delay))})\n",
    "        \n",
    "#         # Move down (when stimulus on the top 'hemisphere') \n",
    "#         if y > w_px/2: # lower pixel --> top of image\n",
    "#             w_motor_y = w_fovea*(abs(y-w_px/2)/w_px )\n",
    "#             con_move.append({ 'l1lm': p.Projection(cells_l0[idx], move_neurons[3], cell_conn,\n",
    "#                                             receptor_type='excitatory',\n",
    "#                                             synapse_type=p.StaticSynapse(weight=w_motor_y, delay=delay))})\n",
    "            \n",
    "        \n",
    "# Run simulation \n",
    "p.run(nb_steps)\n",
    "\n",
    "\n",
    "\n",
    "        \n"
   ]
  },
  {
   "cell_type": "code",
   "execution_count": null,
   "metadata": {},
   "outputs": [],
   "source": [
    "\n",
    "m_indexes = []\n",
    "m_v_arrays = []\n",
    "for i in range(len(m_labels)):    \n",
    "    spikes = move_neurons[i].get_data(\"spikes\")\n",
    "    voltage = move_neurons[i].get_data(\"v\")\n",
    "    m_indexes.append(np.asarray(spikes.segments[0].spiketrains[0]))\n",
    "    m_v_arrays.append(np.array(voltage.segments[0].filter(name=\"v\")[0]).reshape(-1))\n"
   ]
  },
  {
   "cell_type": "code",
   "execution_count": null,
   "metadata": {},
   "outputs": [],
   "source": [
    "\n",
    "p.end()"
   ]
  },
  {
   "cell_type": "code",
   "execution_count": null,
   "metadata": {
    "scrolled": false
   },
   "outputs": [],
   "source": [
    "\n",
    "xlim = nb_steps       \n",
    "for i in range(4):\n",
    "    plot_spikes(m_indexes[i:i+1], m_labels[i], xlim)\n",
    "# for i in range(4):\n",
    "#     plot_voltages(m_v_arrays[i:i+1], m_labels[i], xlim)"
   ]
  },
  {
   "cell_type": "code",
   "execution_count": null,
   "metadata": {},
   "outputs": [],
   "source": [
    "\n",
    "win_size = 20\n",
    "\n",
    "fig, axs = plt.subplots(2, figsize=(15,6))\n",
    "fig.tight_layout(pad=5.0)\n",
    "fig.suptitle(\"Trajectories\")  \n",
    "\n",
    "\n",
    "# print(\"{:.1f} %\".format(np.round(t/(duration*1000),3)*100))\n",
    "max_y = 0\n",
    "for j in range(4):\n",
    "    neuron_nb = j\n",
    "    count = np.zeros(nb_steps-win_size)\n",
    "    for i in range(win_size, nb_steps, 1):\n",
    "        \n",
    "        a = np.squeeze(np.array(np.where((m_indexes[neuron_nb]>=(i-win_size)) & (m_indexes[neuron_nb]<=(i)))), axis=0)\n",
    "        count[i-win_size] = len(a)\n",
    "        if count[i-win_size] > max_y:\n",
    "            max_y = count[i-win_size]\n",
    "\n",
    "    subplot_idx = int(j/2)\n",
    "    axs[subplot_idx].plot(count, label=m_labels[j], color=colors[j])\n",
    "    axs[subplot_idx].legend()\n",
    "\n",
    "    \n",
    "axs[0].set_ylim([0, int(max_y*1.2)])\n",
    "axs[1].set_ylim([0, int(max_y*1.2)])\n",
    "plt.legend()\n",
    "# plt.xlim([0, 20])"
   ]
  },
  {
   "cell_type": "code",
   "execution_count": null,
   "metadata": {},
   "outputs": [],
   "source": [
    "fig, axs = plt.subplots(1, figsize=(15,6))\n",
    "fig.tight_layout(pad=5.0)\n",
    "fig.suptitle(\"Trajectories\")  \n",
    "axs.plot(coor[0,:], label=\"x\", color=\"b\")\n",
    "axs.plot(coor[1,:], label=\"y\", color=\"y\")\n",
    "axs.plot(np.round(coor[0,:],0), label=\"x\", color=\"b\")\n",
    "axs.plot(np.round(coor[1,:],0), label=\"y\", color=\"y\")\n",
    "axs.set_ylim([0, 20])\n",
    "plt.legend() \n",
    "    "
   ]
  },
  {
   "cell_type": "code",
   "execution_count": 18,
   "metadata": {},
   "outputs": [
    {
     "name": "stdout",
     "output_type": "stream",
     "text": [
      "[Sequence([ 3.9269001   8.53628472 21.66986342 28.09319514 29.23213537 32.85930484\n",
      " 36.3052331  45.35326238 52.57282478 59.06147085]), Sequence([ 5.49313381  5.64379471 19.05099009 39.51459371 39.67042173 45.20041572\n",
      " 49.81070531 60.90835947 65.48834456 66.168604  ])]\n"
     ]
    }
   ],
   "source": [
    "def generate_spike_times(i_range):\n",
    "    return [Sequence(np.add.accumulate(np.random.exponential(10.0, size=10)))\n",
    "            for i in i_range]\n",
    "\n",
    "a = generate_spike_times([1,2])\n",
    "print(a)"
   ]
  },
  {
   "cell_type": "code",
   "execution_count": 17,
   "metadata": {},
   "outputs": [
    {
     "data": {
      "text/plain": [
       "array([ 3.71797867,  5.19567339, 21.8856394 , 34.26283856, 38.44386064,\n",
       "       43.61033164, 51.48158034, 59.11617165, 69.80679665, 69.89956555])"
      ]
     },
     "execution_count": 17,
     "metadata": {},
     "output_type": "execute_result"
    }
   ],
   "source": [
    "np.add.accumulate(np.random.exponential(10.0, size=10))"
   ]
  }
 ],
 "metadata": {
  "kernelspec": {
   "display_name": "spinstuff",
   "language": "python",
   "name": "spinstuff"
  },
  "language_info": {
   "codemirror_mode": {
    "name": "ipython",
    "version": 3
   },
   "file_extension": ".py",
   "mimetype": "text/x-python",
   "name": "python",
   "nbconvert_exporter": "python",
   "pygments_lexer": "ipython3",
   "version": "3.6.9"
  }
 },
 "nbformat": 4,
 "nbformat_minor": 2
}
