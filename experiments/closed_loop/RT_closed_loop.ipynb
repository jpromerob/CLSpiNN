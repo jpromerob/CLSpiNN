{
 "cells": [
  {
   "cell_type": "code",
   "execution_count": null,
   "metadata": {
    "scrolled": true
   },
   "outputs": [],
   "source": [
    "import spynnaker8 as p\n",
    "from pyNN.random import NumpyRNG, RandomDistribution\n",
    "from pyNN.utility.plotting import Figure, Panel\n",
    "import matplotlib.pyplot as plt\n",
    "\n",
    "import time\n",
    "import numpy as np\n",
    "import math\n",
    "import cv2\n",
    "import pdb\n",
    "\n",
    "\n",
    "import sys\n",
    "sys.path.insert(1, '../../miscelaneous')\n",
    "from spinnorse_tools import fetch_files, plot_in_v_out, plot_spikes, plot_voltages, plot_ma_from_spikes, plot_trajectories\n",
    "from stimulator import produce_data\n",
    "\n",
    "def receive_spikes_from_sim(label, time, neuron_ids):\n",
    "    print(\"1\")\n",
    "    \n",
    "def send_spike(label, sender):\n",
    "    sender.send_spike(label, 0, send_full_keys=True)"
   ]
  },
  {
   "cell_type": "code",
   "execution_count": null,
   "metadata": {},
   "outputs": [],
   "source": [
    "duration = 3\n",
    "l_px = 24\n",
    "w_px = int(l_px*3/4)\n",
    "vx =  l_px/80\n",
    "vy = -w_px/160\n",
    "r_ball = int(3+w_px/48)\n",
    "mat, coor = produce_data(l_px, w_px, r_ball, vx, vy, duration)\n",
    "# print(mat[3,4,:])"
   ]
  },
  {
   "cell_type": "code",
   "execution_count": null,
   "metadata": {
    "scrolled": true
   },
   "outputs": [],
   "source": [
    "dt = 1           # (ms) simulation timestep\n",
    "\n",
    "cell_params = {'tau_m': 20.0,\n",
    "               'tau_syn_E': 5.0,\n",
    "               'tau_syn_I': 5.0,\n",
    "               'v_rest': -65.0,\n",
    "               'v_reset': -65.0,\n",
    "               'v_thresh': -50.0,\n",
    "               'tau_refrac': 0.0, # 0.1 originally\n",
    "               'cm': 1,\n",
    "               'i_offset': 0.0\n",
    "               }\n",
    "\n",
    "w = 1.0\n",
    "w_fovea = 0.5"
   ]
  },
  {
   "cell_type": "code",
   "execution_count": null,
   "metadata": {
    "scrolled": true
   },
   "outputs": [],
   "source": [
    "nb_steps = duration*1000\n",
    "\n",
    "\n",
    "#SpiNNaker Setup\n",
    "delay = dt\n",
    "node_id = p.setup(timestep=dt, min_delay=delay, max_delay=delay)     \n",
    "p.set_number_of_neurons_per_core(p.IF_curr_exp, 100) #  100 neurons per core\n",
    "\n",
    "\n",
    "celltype = p.IF_curr_exp\n",
    "\n",
    "cells_l0 = []  \n",
    "cells_l1 = []   \n",
    "con_l0l1 = []  \n",
    "con_move = []\n",
    "w_x = np.zeros((2,l_px))\n",
    "w_y = np.zeros((2,w_px))\n",
    "\n",
    "idx = -1\n",
    "\n",
    "m_labels = [\"go_right\", \"go_left\", \"go_up\", \"go_down\"]\n",
    "colors = [\"g\", \"r\", \"g\", \"r\"]\n",
    "\n",
    "move_neurons = []\n",
    "for i in range(len(m_labels)):\n",
    "    move_neurons.append(p.Population(1, celltype(**cell_params), label=m_labels[i]) )\n",
    "    move_neurons[i].record([\"v\",\"spikes\"])\n",
    "\n",
    "\n",
    "for y in range(w_px):\n",
    "        \n",
    "    for x in range(l_px):\n",
    "        \n",
    "        idx += 1\n",
    "        i_spikes = mat[y, x, :]\n",
    "        i_indexes = np.where(i_spikes > 0)\n",
    "        spike_trains = p.SpikeSourceArray(spike_times=(i_indexes))\n",
    "\n",
    "        cur_label = \"N_{:d}_{:d}\".format(x, y)\n",
    "        \n",
    "        # Populations        \n",
    "        cells_l0.append(p.Population(1,spike_trains))        \n",
    "#         cells_l1.append(p.Population(1, celltype(**cell_params), label=cur_label))\n",
    "\n",
    "\n",
    "        # Connectivity\n",
    "        cell_conn = p.AllToAllConnector()\n",
    "        cur_label = \"i2l_{:d}_{:d}\".format(x, y)         \n",
    "#         con_l0l1.append({ 'i1l1': p.Projection(cells_l0[idx], cells_l1[idx], cell_conn,\n",
    "#                                 receptor_type='excitatory',\n",
    "#                                 synapse_type=p.StaticSynapse(weight=w, delay=delay))})\n",
    "        \n",
    "        # Move right (when stimulus on the left 'hemisphere')    \n",
    "        if x < l_px/2:\n",
    "            w_motor_x = w_fovea*(abs(x-l_px/2)/l_px )\n",
    "            con_move.append({ 'l1lm': p.Projection(cells_l0[idx], move_neurons[0], cell_conn,\n",
    "                                            receptor_type='excitatory',\n",
    "                                            synapse_type=p.StaticSynapse(weight=w_motor_x, delay=delay))})\n",
    "    \n",
    "        # Move Left (when stimulus on the right 'hemisphere')\n",
    "        if x > l_px/2:\n",
    "            w_motor_x = w_fovea*(abs(x-l_px/2)/l_px )\n",
    "            con_move.append({ 'l1lm': p.Projection(cells_l0[idx], move_neurons[1], cell_conn,\n",
    "                                            receptor_type='excitatory',\n",
    "                                            synapse_type=p.StaticSynapse(weight=w_motor_x, delay=delay))})\n",
    "        \n",
    "        # Move up (when stimulus on the bottom 'hemisphere')     \n",
    "        if y < w_px/2: # higher pixel --> bottom of image\n",
    "            w_motor_y = w_fovea*(abs(y-w_px/2)/w_px )\n",
    "            con_move.append({ 'l1lm': p.Projection(cells_l0[idx], move_neurons[2], cell_conn,\n",
    "                                            receptor_type='excitatory',\n",
    "                                            synapse_type=p.StaticSynapse(weight=w_motor_y, delay=delay))})\n",
    "        \n",
    "        # Move down (when stimulus on the top 'hemisphere') \n",
    "        if y > w_px/2: # lower pixel --> top of image\n",
    "            w_motor_y = w_fovea*(abs(y-w_px/2)/w_px )\n",
    "            con_move.append({ 'l1lm': p.Projection(cells_l0[idx], move_neurons[3], cell_conn,\n",
    "                                            receptor_type='excitatory',\n",
    "                                            synapse_type=p.StaticSynapse(weight=w_motor_y, delay=delay))})\n",
    "        \n",
    "        \n",
    "#         print(\"N_{:d}_{:d} --> ({:.3f},{:.3f})\".format(x, y, w_motor_x, w_motor_y))\n",
    "        \n",
    "        # Setup recording \n",
    "        cells_l0[idx].record([\"spikes\"])\n",
    "#         cells_l1[idx].record([\"v\",\"spikes\"])\n",
    "\n",
    "\n",
    "# Spike reception (from SpiNNaker to CPU)\n",
    "live_spikes_receiver = p.external_devices.SpynnakerLiveSpikesConnection(receive_labels=[m_labels[0]], local_port=19993)\n",
    "live_spikes_receiver.add_receive_callback(m_labels[0], receive_spikes_from_sim)\n",
    "\n",
    "# Spike emission (from CPU to SpiNNaker)\n",
    "live_spikes_sender = p.external_devices.SpynnakerLiveSpikesConnection(send_labels=[cells_l0[cid]], local_port=19994)\n",
    "\n",
    "p.external_devices.activate_live_output_for(move_neurons[0], database_notify_port_num=live_spikes_receiver.local_port)\n",
    "\n",
    "\n",
    "\n",
    "        \n"
   ]
  },
  {
   "cell_type": "code",
   "execution_count": null,
   "metadata": {},
   "outputs": [],
   "source": [
    "\n",
    "# Run simulation \n",
    "p.run(nb_steps)"
   ]
  },
  {
   "cell_type": "code",
   "execution_count": null,
   "metadata": {},
   "outputs": [],
   "source": [
    "\n",
    "i_indexes = []\n",
    "o_indexes = []\n",
    "v_arrays = []\n",
    "for neuron_nb in range(0,w_px*l_px,1):\n",
    "    \n",
    "    in_spikes = cells_l0[neuron_nb].get_data(\"spikes\")\n",
    "    i_indexes.append(np.asarray(in_spikes.segments[0].spiketrains[0]))   \n",
    "\n",
    "\n",
    "\n",
    "m_indexes = []\n",
    "m_v_arrays = []\n",
    "for i in range(len(m_labels)):    \n",
    "    spikes = move_neurons[i].get_data(\"spikes\")\n",
    "    voltage = move_neurons[i].get_data(\"v\")\n",
    "    m_indexes.append(np.asarray(spikes.segments[0].spiketrains[0]))\n",
    "    m_v_arrays.append(np.array(voltage.segments[0].filter(name=\"v\")[0]).reshape(-1))\n"
   ]
  },
  {
   "cell_type": "code",
   "execution_count": null,
   "metadata": {},
   "outputs": [],
   "source": [
    "\n",
    "p.end()"
   ]
  },
  {
   "cell_type": "code",
   "execution_count": null,
   "metadata": {
    "scrolled": false
   },
   "outputs": [],
   "source": [
    "\n",
    "xlim = nb_steps       \n",
    "for i in range(4):\n",
    "    plot_spikes(m_indexes[i:i+1], m_labels[i], xlim)\n",
    "# for i in range(4):\n",
    "#     plot_voltages(m_v_arrays[i:i+1], m_labels[i], xlim)"
   ]
  },
  {
   "cell_type": "code",
   "execution_count": null,
   "metadata": {},
   "outputs": [],
   "source": [
    "\n",
    "\n",
    "win_size = 20\n",
    "title = \"motor_neurons_ma\"\n",
    "plot_ma_from_spikes(win_size, nb_steps, m_indexes, m_labels, colors, title)"
   ]
  },
  {
   "cell_type": "code",
   "execution_count": null,
   "metadata": {},
   "outputs": [],
   "source": [
    "plot_trajectories(coor, \"ball_trajectories\")\n",
    "    "
   ]
  },
  {
   "cell_type": "code",
   "execution_count": null,
   "metadata": {},
   "outputs": [],
   "source": []
  }
 ],
 "metadata": {
  "kernelspec": {
   "display_name": "spinstuff",
   "language": "python",
   "name": "spinstuff"
  },
  "language_info": {
   "codemirror_mode": {
    "name": "ipython",
    "version": 3
   },
   "file_extension": ".py",
   "mimetype": "text/x-python",
   "name": "python",
   "nbconvert_exporter": "python",
   "pygments_lexer": "ipython3",
   "version": "3.6.9"
  }
 },
 "nbformat": 4,
 "nbformat_minor": 2
}
